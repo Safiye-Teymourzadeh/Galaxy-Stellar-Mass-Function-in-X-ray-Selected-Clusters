{
 "cells": [
  {
   "cell_type": "code",
   "id": "initial_id",
   "metadata": {
    "collapsed": true,
    "ExecuteTime": {
     "end_time": "2025-03-12T08:05:45.706857Z",
     "start_time": "2025-03-12T08:05:45.702990Z"
    }
   },
   "source": [
    "import pandas as pd\n",
    "from astropy.table import Table\n",
    "from astropy.io import fits"
   ],
   "outputs": [],
   "execution_count": 12
  },
  {
   "metadata": {
    "ExecuteTime": {
     "end_time": "2025-03-12T11:39:22.428299Z",
     "start_time": "2025-03-12T11:39:22.407580Z"
    }
   },
   "cell_type": "code",
   "source": [
    "dir = '/home/farnoosh/farnoosh/Master_Thesis_all/Data/SDSS/SQL_server/SpecPhotoAll.csv'\n",
    "SpecPhotoAll = pd.read_csv(dir)\n",
    "print(SpecPhotoAll)"
   ],
   "id": "e600ae3a520f03c4",
   "outputs": [
    {
     "name": "stdout",
     "output_type": "stream",
     "text": [
      "                                           specObjID   targetID  \\\n",
      "0                                              ERROR        NaN   \n",
      "1          SQL returned the following error message:        NaN   \n",
      "2  006~ASP 0251~Response Buffer Limit Exceeded~Ex...        NaN   \n",
      "3                              Your SQL command was:        NaN   \n",
      "4                          EXEC spExecuteSQL 'SELECT        NaN   \n",
      "5                                          specObjID   targetID   \n",
      "6                             FROM SpecPhotoAll AS s        NaN   \n",
      "7                                                  '     100000   \n",
      "\n",
      "            targetObjID        ra             dec         z   zStatus   zErr  \\\n",
      "0                   NaN       NaN             NaN       NaN       NaN    NaN   \n",
      "1                   NaN       NaN             NaN       NaN       NaN    NaN   \n",
      "2                   NaN       NaN             NaN       NaN       NaN    NaN   \n",
      "3                   NaN       NaN             NaN       NaN       NaN    NaN   \n",
      "4                   NaN       NaN             NaN       NaN       NaN    NaN   \n",
      "5           targetObjID        ra             dec         z   zStatus   zErr   \n",
      "6                   NaN       NaN             NaN       NaN       NaN    NaN   \n",
      "7  'skyserver.sdss.org'  'DSA003'  '172.23.10.45'  'public'       NaN    NaN   \n",
      "\n",
      "    specClass   zWarning   sciencePrimary   objType   type   psfMag_r  \\\n",
      "0         NaN        NaN              NaN       NaN    NaN        NaN   \n",
      "1         NaN        NaN              NaN       NaN    NaN        NaN   \n",
      "2         NaN        NaN              NaN       NaN    NaN        NaN   \n",
      "3         NaN        NaN              NaN       NaN    NaN        NaN   \n",
      "4         NaN        NaN              NaN       NaN    NaN        NaN   \n",
      "5   specClass   zWarning   sciencePrimary   objType   type   psfMag_r   \n",
      "6         NaN        NaN              NaN       NaN    NaN        NaN   \n",
      "7         NaN        NaN              NaN       NaN    NaN        NaN   \n",
      "\n",
      "    fiberMag_r   petroMag_r   modelMag_r   status   dered_r  \n",
      "0          NaN          NaN          NaN      NaN       NaN  \n",
      "1          NaN          NaN          NaN      NaN       NaN  \n",
      "2          NaN          NaN          NaN      NaN       NaN  \n",
      "3          NaN          NaN          NaN      NaN       NaN  \n",
      "4          NaN          NaN          NaN      NaN       NaN  \n",
      "5   fiberMag_r   petroMag_r   modelMag_r   status   dered_r  \n",
      "6          NaN          NaN          NaN      NaN       NaN  \n",
      "7          NaN          NaN          NaN      NaN       NaN  \n"
     ]
    }
   ],
   "execution_count": 44
  },
  {
   "metadata": {
    "ExecuteTime": {
     "end_time": "2025-03-12T08:02:49.327598Z",
     "start_time": "2025-03-12T08:02:49.322443Z"
    }
   },
   "cell_type": "code",
   "source": [
    "# Define the file paths\n",
    "data_dir = '/home/farnoosh/farnoosh/Master_Thesis_all/Data/SDSS/galaxygroupfinder/'\n",
    "\n",
    "# Full paths to the files\n",
    "file_groups = data_dir + 'sdss_kdgroups_v1.0.dat'\n",
    "file_fluxlim = data_dir + 'sdss_fluxlim_v1.0.dat'\n",
    "file_galprops = data_dir + 'sdss_galprops_v1.0.dat'"
   ],
   "id": "8c48c711c5f36821",
   "outputs": [],
   "execution_count": 7
  },
  {
   "metadata": {
    "ExecuteTime": {
     "end_time": "2025-03-12T09:57:05.622923Z",
     "start_time": "2025-03-12T09:57:05.620306Z"
    }
   },
   "cell_type": "code",
   "source": [
    "# Define column names for each file\n",
    "cols_groups = ['RA', 'Dec', 'z', 'L_gal', 'V_max', 'P_sat', 'M_halo', 'N_sat', 'L_tot', 'igrp', 'unknown']\n",
    "cols_fluxlim = ['RA', 'Dec', 'z', 'log_L_gal', 'V_max', 'color_flag', 'chi']\n",
    "cols_galprops = ['Mag_g', 'Mag_r', 'sigma_v', 'Dn4000', 'concentration', 'log_M_star']"
   ],
   "id": "bd4e8b443acf0507",
   "outputs": [],
   "execution_count": 37
  },
  {
   "metadata": {
    "ExecuteTime": {
     "end_time": "2025-03-12T09:57:05.805208Z",
     "start_time": "2025-03-12T09:57:05.802224Z"
    }
   },
   "cell_type": "code",
   "source": [
    "# Column descriptions\n",
    "descriptions = {\n",
    "    'RA': 'Right ascension of the galaxy [degrees]',\n",
    "    'Dec': 'Declination of the galaxy [degrees]',\n",
    "    'z': 'Redshift of the galaxy',\n",
    "    'L_gal': 'r-band luminosity of the galaxy in solar units, assuming M_r,sol=4.65 and h=1',\n",
    "    'V_max': 'Max volume where galaxy can be observed in SDSS [(Mpc/h)^3]',\n",
    "    'P_sat': 'Probability that this galaxy is a satellite',\n",
    "    'M_halo': 'Halo mass assigned to the galaxy [M_sol/h]',\n",
    "    'N_sat': 'Number of satellites in the halo (corrected for redshift boundaries)',\n",
    "    'L_tot': 'Total luminosity of the group the galaxy belongs to [L_sol/h^2]',\n",
    "    'igrp': 'ID of the central galaxy; equals id if galaxy is a central',\n",
    "    'unkown': 'not described',\n",
    "    'log_L_gal': 'log10 of r-band luminosity of the galaxy in solar units',\n",
    "    'color_flag': '1=quiescent, 0=star-forming (based on Dn4000 cut)',\n",
    "    'chi': 'Normalized galaxy concentration',\n",
    "    'Mag_g': 'k-corrected and evolution corrected (to z=0.1) g-band absolute magnitude',\n",
    "    'Mag_r': 'k-corrected and evolution corrected (to z=0.1) r-band absolute magnitude',\n",
    "    'sigma_v': 'Stellar velocity dispersion [km/s]',\n",
    "    'Dn4000': 'Narrow 4000-Angstrom break (from MPA-JHU DR7 catalog)',\n",
    "    'concentration': 'Galaxy concentration, c_90/c_50, using Petrosian radii',\n",
    "    'log_M_star': 'log10 of PCA-based galaxy stellar mass, assuming Maraston 2011 models'\n",
    "}"
   ],
   "id": "b088dc0396b72ae2",
   "outputs": [],
   "execution_count": 38
  },
  {
   "metadata": {
    "ExecuteTime": {
     "end_time": "2025-03-12T09:58:48.341305Z",
     "start_time": "2025-03-12T09:58:47.339034Z"
    }
   },
   "cell_type": "code",
   "source": [
    "# Read the .dat files\n",
    "groups = pd.read_csv(file_groups, delim_whitespace=True, names=cols_groups)\n",
    "fluxlim = pd.read_csv(file_fluxlim, delim_whitespace=True, names=cols_fluxlim)\n",
    "galprops = pd.read_csv(file_galprops, delim_whitespace=True, names=cols_galprops)\n",
    "\n",
    "# Combine all the data\n",
    "combined = pd.concat([groups.drop(columns=['unknown']), fluxlim.drop(columns=['RA', 'Dec', 'z', 'V_max']), galprops], axis=1)"
   ],
   "id": "24922cdf32e977d6",
   "outputs": [
    {
     "name": "stderr",
     "output_type": "stream",
     "text": [
      "/tmp/ipykernel_64479/1003095084.py:2: FutureWarning: The 'delim_whitespace' keyword in pd.read_csv is deprecated and will be removed in a future version. Use ``sep='\\s+'`` instead\n",
      "  groups = pd.read_csv(file_groups, delim_whitespace=True, names=cols_groups)\n",
      "/tmp/ipykernel_64479/1003095084.py:3: FutureWarning: The 'delim_whitespace' keyword in pd.read_csv is deprecated and will be removed in a future version. Use ``sep='\\s+'`` instead\n",
      "  fluxlim = pd.read_csv(file_fluxlim, delim_whitespace=True, names=cols_fluxlim)\n",
      "/tmp/ipykernel_64479/1003095084.py:4: FutureWarning: The 'delim_whitespace' keyword in pd.read_csv is deprecated and will be removed in a future version. Use ``sep='\\s+'`` instead\n",
      "  galprops = pd.read_csv(file_galprops, delim_whitespace=True, names=cols_galprops)\n"
     ]
    }
   ],
   "execution_count": 39
  },
  {
   "metadata": {
    "ExecuteTime": {
     "end_time": "2025-03-12T09:58:52.846981Z",
     "start_time": "2025-03-12T09:58:52.839114Z"
    }
   },
   "cell_type": "code",
   "source": "print(combined)",
   "id": "530b75d13e7df3ab",
   "outputs": [
    {
     "name": "stdout",
     "output_type": "stream",
     "text": [
      "                RA       Dec         z         L_gal        V_max     P_sat  \\\n",
      "0        38.049129  0.224030  0.053984  8.149445e+09   23961430.0  0.000000   \n",
      "1        38.352518  0.212490  0.053780  3.747560e+09    8541627.0  0.999995   \n",
      "2        38.363601  0.210650  0.054013  1.797793e+10   65873690.0  0.000000   \n",
      "3        54.936824  0.216790  0.201137  3.466546e+10  186842500.0  0.000000   \n",
      "4        54.534881  0.578610  0.128866  1.260246e+10   49462790.0  0.000000   \n",
      "...            ...       ...       ...           ...          ...       ...   \n",
      "559023  162.492326  9.521760  0.086223  2.463583e+10  101664600.0  0.558810   \n",
      "559024  162.484826  9.670181  0.099303  7.811364e+09   25667120.0  0.005836   \n",
      "559025  162.486847  9.651229  0.097887  1.210149e+10   44575980.0  0.000000   \n",
      "559026  162.577596  9.628750  0.097596  8.391039e+09   28020780.0  0.000000   \n",
      "559027  160.895793  9.981451  0.053127  2.061332e+09    3641264.0  0.000000   \n",
      "\n",
      "              M_halo  N_sat         L_tot    igrp  log_L_gal  color_flag  \\\n",
      "0       1.320648e+13    1.0  1.483082e+10       0   9.911128         1.0   \n",
      "1       8.991377e+11    0.0  4.172600e+09       2   9.573749         1.0   \n",
      "2       8.991377e+11    1.0  2.975692e+09       2  10.254740         1.0   \n",
      "3       4.287880e+13    0.0  9.407916e+09       3  10.539897         1.0   \n",
      "4       9.156558e+12    0.0  7.713737e+09       4  10.100455         1.0   \n",
      "...              ...    ...           ...     ...        ...         ...   \n",
      "559023  1.320873e+14    0.0  3.247720e+10  194609  10.391567         1.0   \n",
      "559024  9.473901e+11    0.0  2.342660e+09  559024   9.892727         0.0   \n",
      "559025  1.699453e+12    0.0  3.250124e+09  559025  10.082839         0.0   \n",
      "559026  1.046591e+12    0.0  2.500304e+09  559026   9.923816         1.0   \n",
      "559027  2.628470e+11    0.0  1.342373e+09  559027   9.314148         0.0   \n",
      "\n",
      "             chi     Mag_g     Mag_r  sigma_v   Dn4000  concentration  \\\n",
      "0       2.112673 -19.20230 -20.12782    223.3  1.93634        3.53254   \n",
      "1       0.122230 -18.44427 -19.28437     67.0  1.63226        2.74636   \n",
      "2      -1.183849 -20.20899 -20.98685    137.3  1.72142        2.52066   \n",
      "3       0.365477 -20.76220 -21.69974    245.0  1.94993        3.13893   \n",
      "4       1.118227 -19.69514 -20.60114    197.1  2.10303        3.24881   \n",
      "...          ...       ...       ...      ...      ...            ...   \n",
      "559023  0.423636 -20.39799 -21.32892    203.5  1.98334        3.09511   \n",
      "559024  0.020794 -19.49533 -20.08182     65.5  1.27761        2.33131   \n",
      "559025  0.932299 -19.77154 -20.55710    102.9  1.27058        2.71337   \n",
      "559026 -0.007696 -19.51269 -20.15954     66.6  1.62837        2.83790   \n",
      "559027  0.241161 -18.16816 -18.63537     19.5  1.28313        2.36927   \n",
      "\n",
      "        log_M_star  \n",
      "0        10.721190  \n",
      "1        10.287709  \n",
      "2        11.276299  \n",
      "3        11.422830  \n",
      "4        10.949409  \n",
      "...            ...  \n",
      "559023   11.364341  \n",
      "559024   10.395070  \n",
      "559025   10.823410  \n",
      "559026   10.637770  \n",
      "559027    9.737269  \n",
      "\n",
      "[559028 rows x 19 columns]\n"
     ]
    }
   ],
   "execution_count": 40
  },
  {
   "metadata": {
    "ExecuteTime": {
     "end_time": "2025-03-12T09:59:20.132928Z",
     "start_time": "2025-03-12T09:59:19.720852Z"
    }
   },
   "cell_type": "code",
   "source": [
    "# Convert to an Astropy table\n",
    "table = Table.from_pandas(combined)\n",
    "\n",
    "# Create FITS HDU (Header Data Unit)\n",
    "hdu = fits.BinTableHDU(data=table)"
   ],
   "id": "41808cafac8ca04b",
   "outputs": [],
   "execution_count": 41
  },
  {
   "metadata": {
    "ExecuteTime": {
     "end_time": "2025-03-12T09:59:21.771820Z",
     "start_time": "2025-03-12T09:59:21.551631Z"
    }
   },
   "cell_type": "code",
   "source": [
    "# Add column-specific descriptions to the FITS header\n",
    "for colname in table.colnames:\n",
    "    if colname in descriptions:\n",
    "        hdu.header[f'TTYP{table.colnames.index(colname) + 1}'] = colname  # Column name\n",
    "        hdu.header[f'TCOMM{table.colnames.index(colname) + 1}'] = descriptions[colname]  # Column description\n",
    "\n",
    "# Write the FITS file\n",
    "output_file = data_dir + 'sdss_combined.fits'\n",
    "hdu.writeto(output_file, overwrite=True)\n",
    "\n",
    "print(f\"FITS file created with column descriptions: {output_file}\")"
   ],
   "id": "2a3403cf6945531d",
   "outputs": [
    {
     "name": "stdout",
     "output_type": "stream",
     "text": [
      "FITS file created with column descriptions: /home/farnoosh/farnoosh/Master_Thesis_all/Data/SDSS/galaxygroupfinder/sdss_combined.fits\n"
     ]
    }
   ],
   "execution_count": 42
  },
  {
   "metadata": {},
   "cell_type": "code",
   "outputs": [],
   "execution_count": null,
   "source": "",
   "id": "ca01c35a7f85efb"
  }
 ],
 "metadata": {
  "kernelspec": {
   "display_name": "Python 3",
   "language": "python",
   "name": "python3"
  },
  "language_info": {
   "codemirror_mode": {
    "name": "ipython",
    "version": 2
   },
   "file_extension": ".py",
   "mimetype": "text/x-python",
   "name": "python",
   "nbconvert_exporter": "python",
   "pygments_lexer": "ipython2",
   "version": "2.7.6"
  }
 },
 "nbformat": 4,
 "nbformat_minor": 5
}
