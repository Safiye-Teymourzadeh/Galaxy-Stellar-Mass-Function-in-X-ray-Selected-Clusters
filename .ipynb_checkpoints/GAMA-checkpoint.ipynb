{
 "cells": [
  {
   "cell_type": "code",
   "execution_count": 17,
   "id": "initial_id",
   "metadata": {
    "ExecuteTime": {
     "end_time": "2025-03-12T09:08:46.082375Z",
     "start_time": "2025-03-12T09:08:43.715330Z"
    },
    "tags": []
   },
   "outputs": [],
   "source": [
    "from os import environ\n",
    "\n",
    "import astropy.io.fits as fits\n",
    "import pandas as pd\n",
    "from matplotlib import pyplot as plt\n",
    "import numpy as np\n",
    "from astropy.cosmology import Planck15 as cosmo\n",
    "\n",
    "from galaxy_cluster_matching import match_galaxies_and_clusters\n",
    "from completeness_new import calculate_completeness_of_objects\n",
    "from mass_function import get_weighted_mass_histogram, get_cluster_volume\n",
    "from selection_function import get_mass_luminosity_cutoff, get_distance_from_mass, filter_for_selection_function, get_mass_luminosity_histogram\n",
    "from constants import MASS_BINS, Z_MAX, LOG_MASS_LUMINOSITY_RATIO_BINS"
   ]
  },
  {
   "cell_type": "code",
   "execution_count": 18,
   "id": "80b988d2050697e4",
   "metadata": {
    "ExecuteTime": {
     "end_time": "2025-03-12T09:08:47.298378Z",
     "start_time": "2025-03-12T09:08:47.295780Z"
    }
   },
   "outputs": [],
   "source": [
    "# some parameters for plotting\n",
    "plt.rcParams.update({\n",
    "    'font.size': 18,           # Font size for text\n",
    "    'axes.titlesize': 18,      # Font size for axes titles\n",
    "    'axes.labelsize': 16,      # Font size for x and y labels\n",
    "    'xtick.labelsize': 16,     # Font size for x tick labels\n",
    "    'ytick.labelsize': 16,     # Font size for y tick labels\n",
    "    'legend.fontsize': 16,     # Font size for legend text\n",
    "    'figure.figsize': (15, 8), # Default figure size\n",
    "    'text.usetex': False\n",
    "})"
   ]
  },
  {
   "cell_type": "code",
   "execution_count": 20,
   "id": "b2657efbfc815040",
   "metadata": {
    "ExecuteTime": {
     "end_time": "2025-03-12T09:08:59.934059Z",
     "start_time": "2025-03-12T09:08:48.588303Z"
    }
   },
   "outputs": [],
   "source": [
    "# Server\n",
    "GAMA_Full_raw = fits.open('/home/idies/workspace/Storage/SafiyeTeymourzadeh/persistent/GSMF/data/GAMA/gkvScienceCatv02.fits')[1].data\n",
    "GAMA_raw = fits.open('/home/idies/workspace/Storage/SafiyeTeymourzadeh/persistent/GSMF/data/GAMA/fullmerged_gkvscienceStellarmass_Morphologyv02_shrinked.fits')[1].data #galaxy\n",
    "\n",
    "eRASS1 = fits.open('/home/idies/workspace/Storage/SafiyeTeymourzadeh/persistent/GSMF/data/eRASS1/merged_optical_primary_clusters.fits')[1].data #cluster\n",
    "\n",
    "# Computer\n",
    "#GAMA_Full_raw = fits.open('/home/farnoosh/farnoosh/Master_Thesis_all/Data/GAMA/gkvScienceCatv02/gkvScienceCatv02.fits')[1].data\n",
    "#GAMA_raw = fits.open('/home/farnoosh/farnoosh/Master_Thesis_all/Data/GAMA/merged/gkvscienceStellarmass_Morphology/fullmerged_gkvscienceStellarmass_Morphologyv02_shrinked.fits')[1].data #galaxy\n",
    "\n",
    "#eRASS1 = fits.open('/home/farnoosh/farnoosh/Master_Thesis_all/Data/eRASS/merged_primary&optical_clusters/merged_optical_primary_clusters.fits')[1].data #cluster"
   ]
  },
  {
   "cell_type": "code",
   "execution_count": 21,
   "id": "2af47bb77d1bb727",
   "metadata": {
    "ExecuteTime": {
     "end_time": "2025-03-12T09:08:59.945420Z",
     "start_time": "2025-03-12T09:08:59.942235Z"
    }
   },
   "outputs": [
    {
     "name": "stdout",
     "output_type": "stream",
     "text": [
      "[2.7199896e-04 1.4143783e-04 5.5088607e-05 ... 6.7270834e-05 3.7947833e-04\n",
      " 5.1182313e-05]\n"
     ]
    }
   ],
   "source": [
    "print(GAMA_raw['flux_rt'])"
   ]
  },
  {
   "cell_type": "code",
   "execution_count": 22,
   "id": "62485878ce40422c",
   "metadata": {
    "ExecuteTime": {
     "end_time": "2025-03-12T09:09:04.225598Z",
     "start_time": "2025-03-12T09:09:00.932604Z"
    }
   },
   "outputs": [],
   "source": [
    "# Make dataframes\n",
    "\n",
    "# the survey that has full observation with all different types of objects\n",
    "gama_full_raw_df_unmasked = pd.DataFrame({\n",
    "        'uberID': GAMA_Full_raw['uberID'].byteswap().newbyteorder(),\n",
    "        'uberclass': GAMA_Full_raw['uberclass'].byteswap().newbyteorder(),\n",
    "        'RA': GAMA_Full_raw['RAcen'].byteswap().newbyteorder(),\n",
    "        'DEC': GAMA_Full_raw['Deccen'].byteswap().newbyteorder(),\n",
    "        'z': GAMA_Full_raw['Z'].byteswap().newbyteorder(),\n",
    "        'duplicate': GAMA_Full_raw['duplicate'].byteswap().newbyteorder(),\n",
    "        'mask': GAMA_Full_raw['mask'].byteswap().newbyteorder(),\n",
    "        'starmask': GAMA_Full_raw['starmask'].byteswap().newbyteorder(),\n",
    "        'flux': GAMA_Full_raw['flux_rt'].byteswap().newbyteorder(), # Jansky\n",
    "})\n",
    "# remove all the objects that do not have flux\n",
    "gama_full_raw_df_unmasked = gama_full_raw_df_unmasked[gama_full_raw_df_unmasked['flux'].notna()]\n",
    "\n",
    "\n",
    "# the small survey that has all the parameters that we need\n",
    "gama_df_unmasked = pd.DataFrame({\n",
    "    'uberID': GAMA_raw['uberID'].byteswap().newbyteorder(),\n",
    "    'RA': GAMA_raw['RAcen'].byteswap().newbyteorder(),\n",
    "    'DEC': GAMA_raw['Deccen'].byteswap().newbyteorder(),\n",
    "    'z': GAMA_raw['Z'].byteswap().newbyteorder(),\n",
    "    'mstar': GAMA_raw['mstar'].byteswap().newbyteorder(),\n",
    "    'flux': GAMA_raw['flux_rt'].byteswap().newbyteorder(), # Jansky\n",
    "    'log_age': GAMA_raw['logage'].byteswap().newbyteorder(),\n",
    "    'log_met': GAMA_raw['logtau'].byteswap().newbyteorder(),\n",
    "    'log_met': GAMA_raw['logmet'].byteswap().newbyteorder(),\n",
    "    'morphology': GAMA_raw['FINAL_CLASS'].byteswap().newbyteorder(),\n",
    "    'uberclass': GAMA_raw['uberclass'].byteswap().newbyteorder(),  # Add missing columns\n",
    "    'duplicate': GAMA_raw['duplicate'].byteswap().newbyteorder(),\n",
    "    'mask': GAMA_raw['mask'].byteswap().newbyteorder(),\n",
    "    'starmask': GAMA_raw['starmask'].byteswap().newbyteorder(),\n",
    "    'NQ': GAMA_raw['NQ'].byteswap().newbyteorder(),\n",
    "})\n",
    "\n",
    "# Remove rows where flux is NaN\n",
    "gama_df_unmasked = gama_df_unmasked[gama_df_unmasked['flux'].notna()]   # Jansky\n",
    "gama_df_unmasked['comoving_distance'] = cosmo.comoving_distance(gama_df_unmasked['z']).value    # Mpc\n",
    "\n",
    "\n",
    "\n",
    "\n",
    "\n",
    "\n",
    "# load the clusters of galaxies data from the fits object into dataframes\n",
    "cluster_df_raw = pd.DataFrame({\n",
    "    'c_ID': eRASS1['DETUID'].byteswap().newbyteorder(),\n",
    "    'c_NAME': eRASS1['NAME'].byteswap().newbyteorder(),\n",
    "    'RA': eRASS1['RA'].byteswap().newbyteorder(),\n",
    "    'DEC': eRASS1['DEC'].byteswap().newbyteorder(),\n",
    "    'z': eRASS1['BEST_Z'].byteswap().newbyteorder(),\n",
    "    'z_type': eRASS1['BEST_Z_TYPE_1'].byteswap().newbyteorder(),\n",
    "    'cluster_radius_kpc': eRASS1['R500'].byteswap().newbyteorder(),\n",
    "    'cluster_Velocity_Dispersion': eRASS1['VDISP_BOOT'].byteswap().newbyteorder(),\n",
    "})\n",
    "cluster_df_raw['cluster_radius_Mpc'] = cluster_df_raw['cluster_radius_kpc'] / 1000\n",
    "cluster_df_raw['distance'] = cosmo.comoving_distance(cluster_df_raw['z']).value     # Mpc\n",
    "cluster_df_raw['cluster_volume'] = get_cluster_volume(cluster_df_raw['cluster_radius_Mpc'])\n"
   ]
  },
  {
   "cell_type": "code",
   "execution_count": 25,
   "id": "2db38ae3038fc5e3",
   "metadata": {
    "ExecuteTime": {
     "end_time": "2025-03-12T09:09:04.448004Z",
     "start_time": "2025-03-12T09:09:04.358263Z"
    }
   },
   "outputs": [
    {
     "name": "stdout",
     "output_type": "stream",
     "text": [
      "(12247, 11)\n",
      "(6899, 11)\n",
      "(12247, 11)\n"
     ]
    }
   ],
   "source": [
    "# Masks\n",
    "# GALAXIES\n",
    "\n",
    "# BIG GALAXY\n",
    "# Apply the masks to the GAMA big DataFrame\n",
    "gama_full_df = gama_full_raw_df_unmasked[\n",
    "    (gama_full_raw_df_unmasked['uberclass'] == 1) &  # Classified as galaxy\n",
    "    (gama_full_raw_df_unmasked['duplicate'] == 0) &  # Unique object\n",
    "    (gama_full_raw_df_unmasked['mask'] == False) &   # Not masked\n",
    "    (gama_full_raw_df_unmasked['starmask'] == False) &  # Not star-masked\n",
    "    (gama_full_raw_df_unmasked['z'] < 0.4) &         # Redshift less than 0.4\n",
    "    # (\n",
    "    #     ((gama_full_raw_df_unmasked['RA'] > 129.0) & (gama_full_raw_df_unmasked['RA'] < 141.0) & (gama_full_raw_df_unmasked['DEC'] > -2.0) & (gama_full_raw_df_unmasked['DEC'] < 3.0)) |\n",
    "    #     ((gama_full_raw_df_unmasked['RA'] > 174.0) & (gama_full_raw_df_unmasked['RA'] < 186.0) & (gama_full_raw_df_unmasked['DEC'] > -3.0) & (gama_full_raw_df_unmasked['DEC'] < 2.0)) |\n",
    "    #     ((gama_full_raw_df_unmasked['RA'] > 211.5) & (gama_full_raw_df_unmasked['RA'] < 223.5) & (gama_full_raw_df_unmasked['DEC'] > -2.0) & (gama_full_raw_df_unmasked['DEC'] < 3.0)) |\n",
    "    #     ((gama_full_raw_df_unmasked['RA'] > 339.0) & (gama_full_raw_df_unmasked['RA'] < 351.0) & (gama_full_raw_df_unmasked['DEC'] > -35.0) & (gama_full_raw_df_unmasked['DEC'] < -30.0))\n",
    "    # ) &\n",
    "    (gama_full_raw_df_unmasked['flux'] >= 5.011928e-05)  # Flux greater than or equal to 5.011928e-05\n",
    "]\n",
    "\n",
    "\n",
    "# SMALL GALAXY survey masks\n",
    "gama_df = gama_df_unmasked[\n",
    "    (gama_df_unmasked['uberclass'] == 1) &           # Classified as galaxy\n",
    "    (gama_df_unmasked['duplicate'] == 0) &           # Unique object\n",
    "    (gama_df_unmasked['mask'] == False) &            # Not masked\n",
    "    (gama_df_unmasked['starmask'] == False) &        # Not star-masked\n",
    "    (gama_df_unmasked['mstar'] > 0) &                # Stellar mass greater than 0\n",
    "    (gama_df_unmasked['NQ'] > 2) &                   # Reliable redshift\n",
    "    (gama_df_unmasked['z'] != 0) &                   # Redshift not zero\n",
    "    (gama_df_unmasked['z'] != -9.999) &              # Redshift not -9.999 (invalid value)\n",
    "    (gama_df_unmasked['z'] < Z_MAX) &                # Redshift less than Z_MAX (define Z_MAX)\n",
    "    # (\n",
    "    #     ((gama_df_unmasked['RA'] > 129.0) & (gama_df_unmasked['RA'] < 141.0) & (gama_df_unmasked['DEC'] > -2.0) & (gama_df_unmasked['DEC'] < 3.0)) |\n",
    "    #     ((gama_df_unmasked['RA'] > 174.0) & (gama_df_unmasked['RA'] < 186.0) & (gama_df_unmasked['DEC'] > -3.0) & (gama_df_unmasked['DEC'] < 2.0)) |\n",
    "    #     ((gama_df_unmasked['RA'] > 211.5) & (gama_df_unmasked['RA'] < 223.5) & (gama_df_unmasked['DEC'] > -2.0) & (gama_df_unmasked['DEC'] < 3.0)) |\n",
    "    #     ((gama_df_unmasked['RA'] > 339.0) & (gama_df_unmasked['RA'] < 351.0) & (gama_df_unmasked['DEC'] > -35.0) & (gama_df_unmasked['DEC'] < -30.0))\n",
    "    # ) &\n",
    "    (gama_df_unmasked['flux'] >= 5.011928e-05)       # Flux greater than or equal to 5.011928e-05\n",
    "]\n",
    "\n",
    "\n",
    "\n",
    "\n",
    "\n",
    "\n",
    "\n",
    "\n",
    "# CLUSTERS\n",
    "# Remove rows where 'cluster_Velocity_Dispersion' is NaN\n",
    "cluster_df_noVelDisp = cluster_df_raw#.dropna(subset=['cluster_Velocity_Dispersion'])\n",
    "\n",
    "cluster_df = cluster_df_noVelDisp[\n",
    "    (cluster_df_noVelDisp['z'] <= 0.4) &\n",
    "    # (\n",
    "    #     ((cluster_df_noVelDisp['RA'] > 129.0) & (cluster_df_noVelDisp['RA'] < 141.0) & (cluster_df_noVelDisp['DEC'] > -2.0) & (cluster_df_noVelDisp['DEC'] < 3.0)) |\n",
    "    #     ((cluster_df_noVelDisp['RA'] > 174.0) & (cluster_df_noVelDisp['RA'] < 186.0) & (cluster_df_noVelDisp['DEC'] > -3.0) & (cluster_df_noVelDisp['DEC'] < 2.0)) |\n",
    "    #     ((cluster_df_noVelDisp['RA'] > 211.5) & (cluster_df_noVelDisp['RA'] < 223.5) & (cluster_df_noVelDisp['DEC'] > -2.0) & (cluster_df_noVelDisp['DEC'] < 3.0)) |\n",
    "    #     ((cluster_df_noVelDisp['RA'] > 339.0) & (cluster_df_noVelDisp['RA'] < 351.0) & (cluster_df_noVelDisp['DEC'] > -35.0) & (cluster_df_noVelDisp['DEC'] < -30.0))\n",
    "    # ) &\n",
    "\n",
    "    (cluster_df_noVelDisp['cluster_radius_kpc'] != -1)\n",
    "]\n",
    "\n",
    "print(cluster_df_raw.shape)\n",
    "print(cluster_df.shape)\n",
    "print(cluster_df_noVelDisp.shape)\n"
   ]
  },
  {
   "cell_type": "code",
   "execution_count": 26,
   "id": "6931eca7e87ff4c4",
   "metadata": {
    "ExecuteTime": {
     "end_time": "2025-03-12T09:09:04.743273Z",
     "start_time": "2025-03-12T09:09:04.685101Z"
    }
   },
   "outputs": [
    {
     "name": "stderr",
     "output_type": "stream",
     "text": [
      "/home/idies/workspace/Storage/SafiyeTeymourzadeh/persistent/GSMF/Galaxy-Stellar-Mass-Function-in-X-ray-Selected-Clusters/completeness_new.py:23: RuntimeWarning: invalid value encountered in divide\n",
      "  return np.cumsum(number_of_obj_small_survey)/np.cumsum(number_of_obj_big_survey)\n",
      "/home/idies/workspace/Storage/SafiyeTeymourzadeh/persistent/GSMF/Galaxy-Stellar-Mass-Function-in-X-ray-Selected-Clusters/completeness_new.py:18: SettingWithCopyWarning: \n",
      "A value is trying to be set on a copy of a slice from a DataFrame.\n",
      "Try using .loc[row_indexer,col_indexer] = value instead\n",
      "\n",
      "See the caveats in the documentation: https://pandas.pydata.org/pandas-docs/stable/user_guide/indexing.html#returning-a-view-versus-a-copy\n",
      "  small_survey[\"completeness\"] = object_completeness\n"
     ]
    }
   ],
   "source": [
    "# Assuming you have all necessary imports and the constants file loaded correctly\n",
    "gama_df = calculate_completeness_of_objects(gama_full_df, gama_df)"
   ]
  },
  {
   "cell_type": "code",
   "execution_count": null,
   "id": "a93506a226190845",
   "metadata": {
    "ExecuteTime": {
     "end_time": "2025-03-03T09:23:42.873136Z",
     "start_time": "2025-03-03T08:46:26.905355Z"
    }
   },
   "outputs": [
    {
     "name": "stderr",
     "output_type": "stream",
     "text": [
      "/home/idies/workspace/Storage/SafiyeTeymourzadeh/persistent/GSMF/Galaxy-Stellar-Mass-Function-in-X-ray-Selected-Clusters/galaxy_cluster_matching.py:64: SettingWithCopyWarning: \n",
      "A value is trying to be set on a copy of a slice from a DataFrame.\n",
      "Try using .loc[row_indexer,col_indexer] = value instead\n",
      "\n",
      "See the caveats in the documentation: https://pandas.pydata.org/pandas-docs/stable/user_guide/indexing.html#returning-a-view-versus-a-copy\n",
      "  galaxy_dataframe['environment'] = \"Field\"\n",
      "/home/idies/workspace/Storage/SafiyeTeymourzadeh/persistent/GSMF/Galaxy-Stellar-Mass-Function-in-X-ray-Selected-Clusters/galaxy_cluster_matching.py:65: SettingWithCopyWarning: \n",
      "A value is trying to be set on a copy of a slice from a DataFrame.\n",
      "Try using .loc[row_indexer,col_indexer] = value instead\n",
      "\n",
      "See the caveats in the documentation: https://pandas.pydata.org/pandas-docs/stable/user_guide/indexing.html#returning-a-view-versus-a-copy\n",
      "  galaxy_dataframe['cluster_mass'] = None\n",
      "/home/idies/workspace/Storage/SafiyeTeymourzadeh/persistent/GSMF/Galaxy-Stellar-Mass-Function-in-X-ray-Selected-Clusters/galaxy_cluster_matching.py:66: SettingWithCopyWarning: \n",
      "A value is trying to be set on a copy of a slice from a DataFrame.\n",
      "Try using .loc[row_indexer,col_indexer] = value instead\n",
      "\n",
      "See the caveats in the documentation: https://pandas.pydata.org/pandas-docs/stable/user_guide/indexing.html#returning-a-view-versus-a-copy\n",
      "  galaxy_dataframe['cluster_name'] = None\n"
     ]
    },
    {
     "name": "stdout",
     "output_type": "stream",
     "text": [
      "Progress: 0.5269324033457755%%%%"
     ]
    },
    {
     "name": "stderr",
     "output_type": "stream",
     "text": [
      "/home/idies/workspace/Storage/SafiyeTeymourzadeh/persistent/GSMF/Galaxy-Stellar-Mass-Function-in-X-ray-Selected-Clusters/galaxy_cluster_matching.py:96: SettingWithCopyWarning: \n",
      "A value is trying to be set on a copy of a slice from a DataFrame.\n",
      "Try using .loc[row_indexer,col_indexer] = value instead\n",
      "\n",
      "See the caveats in the documentation: https://pandas.pydata.org/pandas-docs/stable/user_guide/indexing.html#returning-a-view-versus-a-copy\n",
      "  galaxy_dataframe.at[i, 'cluster_radius'] = cluster['cluster_radius_Mpc']\n"
     ]
    },
    {
     "name": "stdout",
     "output_type": "stream",
     "text": [
      "Progress: 6.9318584311909115%"
     ]
    },
    {
     "name": "stderr",
     "output_type": "stream",
     "text": [
      "IOPub message rate exceeded.\n",
      "The Jupyter server will temporarily stop sending output\n",
      "to the client in order to avoid crashing it.\n",
      "To change this limit, set the config variable\n",
      "`--ServerApp.iopub_msg_rate_limit`.\n",
      "\n",
      "Current values:\n",
      "ServerApp.iopub_msg_rate_limit=1000.0 (msgs/sec)\n",
      "ServerApp.rate_limit_window=3.0 (secs)\n",
      "\n"
     ]
    },
    {
     "name": "stdout",
     "output_type": "stream",
     "text": [
      "Progress: 23.194289295152984%"
     ]
    },
    {
     "name": "stderr",
     "output_type": "stream",
     "text": [
      "IOPub message rate exceeded.\n",
      "The Jupyter server will temporarily stop sending output\n",
      "to the client in order to avoid crashing it.\n",
      "To change this limit, set the config variable\n",
      "`--ServerApp.iopub_msg_rate_limit`.\n",
      "\n",
      "Current values:\n",
      "ServerApp.iopub_msg_rate_limit=1000.0 (msgs/sec)\n",
      "ServerApp.rate_limit_window=3.0 (secs)\n",
      "\n"
     ]
    },
    {
     "name": "stdout",
     "output_type": "stream",
     "text": [
      "Progress: 34.79661063128355%%"
     ]
    },
    {
     "name": "stderr",
     "output_type": "stream",
     "text": [
      "IOPub message rate exceeded.\n",
      "The Jupyter server will temporarily stop sending output\n",
      "to the client in order to avoid crashing it.\n",
      "To change this limit, set the config variable\n",
      "`--ServerApp.iopub_msg_rate_limit`.\n",
      "\n",
      "Current values:\n",
      "ServerApp.iopub_msg_rate_limit=1000.0 (msgs/sec)\n",
      "ServerApp.rate_limit_window=3.0 (secs)\n",
      "\n"
     ]
    },
    {
     "name": "stdout",
     "output_type": "stream",
     "text": [
      "Progress: 42.91529302781789%%"
     ]
    },
    {
     "name": "stderr",
     "output_type": "stream",
     "text": [
      "IOPub message rate exceeded.\n",
      "The Jupyter server will temporarily stop sending output\n",
      "to the client in order to avoid crashing it.\n",
      "To change this limit, set the config variable\n",
      "`--ServerApp.iopub_msg_rate_limit`.\n",
      "\n",
      "Current values:\n",
      "ServerApp.iopub_msg_rate_limit=1000.0 (msgs/sec)\n",
      "ServerApp.rate_limit_window=3.0 (secs)\n",
      "\n"
     ]
    },
    {
     "name": "stdout",
     "output_type": "stream",
     "text": [
      "Progress: 54.31817562597063%%"
     ]
    },
    {
     "name": "stderr",
     "output_type": "stream",
     "text": [
      "IOPub message rate exceeded.\n",
      "The Jupyter server will temporarily stop sending output\n",
      "to the client in order to avoid crashing it.\n",
      "To change this limit, set the config variable\n",
      "`--ServerApp.iopub_msg_rate_limit`.\n",
      "\n",
      "Current values:\n",
      "ServerApp.iopub_msg_rate_limit=1000.0 (msgs/sec)\n",
      "ServerApp.rate_limit_window=3.0 (secs)\n",
      "\n"
     ]
    },
    {
     "name": "stdout",
     "output_type": "stream",
     "text": [
      "Progress: 60.882216712530315%"
     ]
    }
   ],
   "source": [
    "# LOOOOOOOOOOOOONG\n",
    "# match the galaxies with the clusters\n",
    "matched_gama_dataframe = match_galaxies_and_clusters(galaxy_dataframe=gama_df, cluster_dataframe=cluster_df)\n",
    "matched_gama_dataframe.to_csv('gama_matched_in_erass1.csv')"
   ]
  },
  {
   "cell_type": "code",
   "execution_count": 8,
   "id": "81b61d9c1541148a",
   "metadata": {
    "ExecuteTime": {
     "end_time": "2025-03-12T09:09:09.075980Z",
     "start_time": "2025-03-12T09:09:08.757834Z"
    }
   },
   "outputs": [
    {
     "name": "stderr",
     "output_type": "stream",
     "text": [
      "/tmp/ipykernel_86200/3435411683.py:2: DtypeWarning: Columns (9) have mixed types. Specify dtype option on import or set low_memory=False.\n",
      "  gama_df = pd.read_csv('gama_matched_in_erass1.csv')\n"
     ]
    }
   ],
   "source": [
    "# load matched galaxies\n",
    "gama_df = pd.read_csv('gama_matched_in_erass1.csv')"
   ]
  },
  {
   "cell_type": "code",
   "execution_count": 9,
   "id": "a7f89197418f61c8",
   "metadata": {
    "ExecuteTime": {
     "end_time": "2025-03-12T09:09:10.879614Z",
     "start_time": "2025-03-12T09:09:10.857132Z"
    }
   },
   "outputs": [
    {
     "name": "stdout",
     "output_type": "stream",
     "text": [
      "        Unnamed: 0           uberID          RA       DEC        z  \\\n",
      "0                0  128980017205121  129.567355 -1.601051  0.07561   \n",
      "1                1  128980023507290  129.561380 -1.396778  0.05738   \n",
      "2                2  128980121111035  129.469375 -1.044192  0.07918   \n",
      "3                3  128980163907821  129.428660 -1.346991  0.04838   \n",
      "4                4  128980185304614  129.409060 -1.648810  0.05364   \n",
      "...            ...              ...         ...       ...      ...   \n",
      "183509      370101  179990595910710  180.022271 -0.074880  0.08144   \n",
      "183510      370110  222980880703442  222.753969 -1.759161  0.20127   \n",
      "183511      370112  215020496300092  214.716076  1.925282  0.26861   \n",
      "183512      370113  137021074202062  136.971637  2.110832  0.27823   \n",
      "183513      370115  176980454003053  177.155905 -1.795873  0.29592   \n",
      "\n",
      "               mstar      flux   log_age   log_met morphology  ...  duplicate  \\\n",
      "0       8.674012e+09  0.000272  9.386167 -2.656237          E  ...      False   \n",
      "1       2.056489e+09  0.000141  9.474055 -1.798230        dBD  ...      False   \n",
      "2       5.209090e+08  0.000055  9.254805 -2.460687          D  ...      False   \n",
      "3       1.309225e+10  0.000784  9.608980 -1.924648          D  ...      False   \n",
      "4       7.337180e+08  0.000061  9.747228 -2.301613        dBD  ...      False   \n",
      "...              ...       ...       ...       ...        ...  ...        ...   \n",
      "183509  1.569621e+10  0.000425  9.347675 -2.174074        NaN  ...      False   \n",
      "183510  1.659049e+10  0.000071  9.654750 -3.451499        NaN  ...      False   \n",
      "183511  6.915294e+10  0.000065  9.829090 -1.840198        NaN  ...      False   \n",
      "183512  6.388143e+10  0.000067  9.493402 -2.288594        NaN  ...      False   \n",
      "183513  3.942601e+10  0.000051  9.706621 -3.267662        NaN  ...      False   \n",
      "\n",
      "         mask  starmask  NQ  comoving_distance  completeness  environment  \\\n",
      "0       False     False   4         328.676982      0.943827        Field   \n",
      "1       False     False   4         250.529312      0.932871        Field   \n",
      "2       False     False   4         343.898099      0.778521        Field   \n",
      "3       False     False   4         211.689257      0.948807        Field   \n",
      "4       False     False   4         234.409864      0.830919        Field   \n",
      "...       ...       ...  ..                ...           ...          ...   \n",
      "183509  False     False   5         353.519826      0.946898        Field   \n",
      "183510  False     False   4         847.926227      0.879399        Field   \n",
      "183511  False     False   4        1112.068674      0.859054        Field   \n",
      "183512  False     False   4        1148.997921      0.866875        Field   \n",
      "183513  False     False   4        1216.382293      0.722493        Field   \n",
      "\n",
      "       cluster_mass  cluster_name cluster_radius  \n",
      "0               NaN           NaN            NaN  \n",
      "1               NaN           NaN            NaN  \n",
      "2               NaN           NaN            NaN  \n",
      "3               NaN           NaN            NaN  \n",
      "4               NaN           NaN            NaN  \n",
      "...             ...           ...            ...  \n",
      "183509          NaN           NaN            NaN  \n",
      "183510          NaN           NaN            NaN  \n",
      "183511          NaN           NaN            NaN  \n",
      "183512          NaN           NaN            NaN  \n",
      "183513          NaN           NaN            NaN  \n",
      "\n",
      "[183514 rows x 21 columns]\n"
     ]
    }
   ],
   "source": [
    "print(gama_df)"
   ]
  },
  {
   "cell_type": "code",
   "execution_count": 10,
   "id": "7657050907abf00e",
   "metadata": {
    "ExecuteTime": {
     "end_time": "2025-03-12T09:09:16.292402Z",
     "start_time": "2025-03-12T09:09:16.280259Z"
    }
   },
   "outputs": [
    {
     "name": "stdout",
     "output_type": "stream",
     "text": [
      "ClusterMember: 1530, Field: 181984, Ratio: 0.8407332513%\n"
     ]
    }
   ],
   "source": [
    "counts = gama_df['environment'].value_counts()\n",
    "ratio = counts.get('ClusterMember', 0) / counts.get('Field', 1) * 100  # Percent\n",
    "print(f\"ClusterMember: {counts.get('ClusterMember', 0)}, Field: {counts.get('Field', 0)}, Ratio: {ratio:.10f}%\")\n"
   ]
  },
  {
   "cell_type": "code",
   "execution_count": 11,
   "id": "a7006404dc8b2c7d",
   "metadata": {
    "ExecuteTime": {
     "end_time": "2025-03-12T09:10:30.171847Z",
     "start_time": "2025-03-12T09:09:44.721600Z"
    }
   },
   "outputs": [],
   "source": [
    "# apply selection function\n",
    "mass_to_light_histogram_all_galaxies = get_mass_luminosity_histogram(galaxy_df=gama_df)"
   ]
  },
  {
   "cell_type": "code",
   "execution_count": 12,
   "id": "b4b6921ef1ad0f9a",
   "metadata": {
    "ExecuteTime": {
     "end_time": "2025-03-12T09:11:43.833146Z",
     "start_time": "2025-03-12T09:10:54.816603Z"
    }
   },
   "outputs": [],
   "source": [
    "mass_to_light_histogram_low_mass_galaxies = get_mass_luminosity_histogram(galaxy_df=gama_df[gama_df[\"mstar\"] < 10**10])\n",
    "mass_luminosity_cutoff = get_mass_luminosity_cutoff(gama_df, cut_off_percentage=80)\n"
   ]
  },
  {
   "cell_type": "code",
   "execution_count": 13,
   "id": "ec5a2fb307e79dde",
   "metadata": {
    "ExecuteTime": {
     "end_time": "2025-03-12T09:13:09.782320Z",
     "start_time": "2025-03-12T09:13:08.850692Z"
    }
   },
   "outputs": [],
   "source": [
    "mass_bin_selection_function = np.logspace(5,12.25, 1000)\n",
    "# mass_for_richards_curve = np.logspace(5,12.25, 1000)\n",
    "\n",
    "selection_function = get_distance_from_mass(mass_bin_selection_function, log_cutoff_mass_to_light_ratio=mass_luminosity_cutoff)\n",
    "\n",
    "gama_df['within_selection_function'] = gama_df.apply(\n",
    "    lambda row: filter_for_selection_function(selection_function, mass_bin_selection_function, row['mstar'],\n",
    "                                              row['comoving_distance']), axis=1)\n",
    "# find the general mass function\n",
    "mass_histogram, mass_histogram_error = get_weighted_mass_histogram(gama_df[gama_df['within_selection_function']])\n",
    "# stellar_mass_function = mass_histogram / get_region_volume('G09', MASS_BINS[:-1], mass_luminosity_cutoff)\n",
    "# stellar_mass_function_error = mass_histogram_error / get_region_volume('G09', MASS_BINS[:-1], mass_luminosity_cutoff)"
   ]
  },
  {
   "cell_type": "code",
   "execution_count": 14,
   "id": "311f4b59d9454f39",
   "metadata": {
    "ExecuteTime": {
     "end_time": "2025-03-12T09:13:11.409889Z",
     "start_time": "2025-03-12T09:13:11.397478Z"
    }
   },
   "outputs": [
    {
     "name": "stdout",
     "output_type": "stream",
     "text": [
      "for mass 100000.0 we have 0 clusters\n",
      "for mass 177827.94100389228 we have 0 clusters\n",
      "for mass 316227.7660168379 we have 0 clusters\n",
      "for mass 562341.3251903491 we have 0 clusters\n",
      "for mass 1000000.0 we have 0 clusters\n",
      "for mass 1778279.410038923 we have 0 clusters\n",
      "for mass 3162277.6601683795 we have 0 clusters\n",
      "for mass 5623413.251903491 we have 0 clusters\n",
      "for mass 10000000.0 we have 0 clusters\n",
      "for mass 17782794.100389227 we have 0 clusters\n",
      "for mass 31622776.60168379 we have 0 clusters\n",
      "for mass 56234132.51903491 we have 0 clusters\n",
      "for mass 100000000.0 we have 0 clusters\n",
      "for mass 177827941.00389227 we have 0 clusters\n",
      "for mass 316227766.01683795 we have 0 clusters\n",
      "for mass 562341325.1903491 we have 0 clusters\n",
      "for mass 1000000000.0 we have 4 clusters\n",
      "for mass 1778279410.0389228 we have 4 clusters\n",
      "for mass 3162277660.1683793 we have 4 clusters\n",
      "for mass 5623413251.903491 we have 4 clusters\n",
      "for mass 10000000000.0 we have 7 clusters\n",
      "for mass 17782794100.38923 we have 8 clusters\n",
      "for mass 31622776601.683792 we have 15 clusters\n",
      "for mass 56234132519.034904 we have 27 clusters\n",
      "for mass 100000000000.0 we have 40 clusters\n",
      "for mass 177827941003.89227 we have 50 clusters\n",
      "for mass 316227766016.83795 we have 70 clusters\n",
      "for mass 562341325190.3491 we have 70 clusters\n",
      "for mass 1000000000000.0 we have 70 clusters\n"
     ]
    }
   ],
   "source": [
    "# find the cluster mass function\n",
    "\n",
    "def get_cluster_volume_sum_from_mass(mass, cluster_df, z_min=0, z_max=0.4, log_cutoff_mass_to_light_ratio=None):\n",
    "    # If log_cutoff_mass_to_light_ratio is provided, use it; otherwise, use some default behavior\n",
    "    cut_off_distance = get_distance_from_mass(mass, log_cutoff_mass_to_light_ratio)\n",
    "    reduced_cluster_dataframe = cluster_df[(cluster_df['distance'] <= cut_off_distance) & (cluster_df['z'] >= z_min) & (cluster_df['z'] <= z_max)]\n",
    "    print(f'for mass {mass} we have {reduced_cluster_dataframe.shape[0]} clusters')\n",
    "    return sum(reduced_cluster_dataframe[\"cluster_volume\"])\n",
    "\n",
    "\n",
    "cluster_volumes_by_mass_bin = [\n",
    "    get_cluster_volume_sum_from_mass(mass=mass, cluster_df=cluster_df, z_max=0.4,\n",
    "                                     log_cutoff_mass_to_light_ratio=mass_luminosity_cutoff)\n",
    "    for mass in MASS_BINS\n",
    "]\n"
   ]
  },
  {
   "cell_type": "code",
   "execution_count": 16,
   "id": "2317f39a2eec7672",
   "metadata": {
    "ExecuteTime": {
     "end_time": "2025-03-12T09:13:54.921407Z",
     "start_time": "2025-03-12T09:13:54.910852Z"
    }
   },
   "outputs": [
    {
     "name": "stdout",
     "output_type": "stream",
     "text": [
      "[   0.            0.            0.            0.            0.\n",
      "    0.            0.            0.            0.            0.\n",
      "    0.            0.            0.            0.            0.\n",
      "   19.44697609   19.41933829    9.69631095   19.39408506  106.88847074\n",
      "  194.2018742   194.43498758  837.51502173 1051.78292431  583.58589162\n",
      "  410.22212035  301.70810601   38.85779359]\n",
      "[0, 0, 0, 0, 0, 0, 0, 0, 0, 0, 0, 0, 0, 0, 0, 0, 2.9405996293589145, 2.9405996293589145, 2.9405996293589145, 2.9405996293589145, 7.306299484491987, 7.8393796998161545, 20.08749873482756, 43.978460976600545, 76.15770492072078, 103.07116348790736, 167.4172141836344, 167.4172141836344, 167.4172141836344]\n"
     ]
    },
    {
     "name": "stderr",
     "output_type": "stream",
     "text": [
      "/tmp/ipykernel_86200/946483250.py:5: RuntimeWarning: invalid value encountered in divide\n",
      "  stellar_mass_function_cluster = mass_histogram[7:] / cluster_volumes_by_mass_bin[8:]\n",
      "/tmp/ipykernel_86200/946483250.py:6: RuntimeWarning: invalid value encountered in divide\n",
      "  stellar_mass_function_error_cluster = mass_histogram_error[7:] / cluster_volumes_by_mass_bin[8:]\n"
     ]
    }
   ],
   "source": [
    "# and cluster galaxies\n",
    "mass_histogram, mass_histogram_error = get_weighted_mass_histogram(gama_df[(gama_df[\"within_selection_function\"] == True) & (gama_df[\"environment\"] == \"ClusterMember\")])\n",
    "print(mass_histogram)\n",
    "print(cluster_volumes_by_mass_bin)\n",
    "stellar_mass_function_cluster = mass_histogram[7:] / cluster_volumes_by_mass_bin[8:]\n",
    "stellar_mass_function_error_cluster = mass_histogram_error[7:] / cluster_volumes_by_mass_bin[8:]"
   ]
  },
  {
   "cell_type": "code",
   "execution_count": 23,
   "id": "bea6866734a003d3",
   "metadata": {
    "ExecuteTime": {
     "end_time": "2025-03-12T09:19:27.951161Z",
     "start_time": "2025-03-12T09:19:27.567321Z"
    }
   },
   "outputs": [
    {
     "data": {
      "text/plain": [
       "Text(0, 0.5, 'Galaxy Abundance ($Mpc^{-3} DEX^{-1} h^{-3}$)')"
      ]
     },
     "execution_count": 23,
     "metadata": {},
     "output_type": "execute_result"
    },
    {
     "data": {
      "image/png": "[encoded data removed]",
      "text/plain": [
       "<Figure size 1500x800 with 1 Axes>"
      ]
     },
     "metadata": {},
     "output_type": "display_data"
    }
   ],
   "source": [
    "# plot the cluster function\n",
    "bin_centers = 0.5 * (MASS_BINS[:-1] + MASS_BINS[1:])\n",
    "plt.bar(bin_centers[7:] / 0.7**2, stellar_mass_function_cluster, width=np.diff(MASS_BINS[7:]) / 0.7**2, edgecolor='black', yerr=stellar_mass_function_error_cluster, capsize=5, alpha=0.2)\n",
    "\n",
    "plt.plot(bin_centers[14:] / 0.7**2, stellar_mass_function_cluster[7:], color='orange', linewidth=3)\n",
    "plt.bar(bin_centers[7:] / 0.7**2, stellar_mass_function_cluster, width=np.diff(MASS_BINS[7:]) / 0.7**2, edgecolor='black', yerr=stellar_mass_function_error_cluster, capsize=5, alpha=0.0)\n",
    "\n",
    "plt.xscale('log'); plt.yscale('log')\n",
    "plt.xlim(10**9, 10**12.5)\n",
    "plt.ylim(10**-2, 10**2)\n",
    "plt.grid()\n",
    "\n",
    "plt.title(\"Galaxy Stellar Mass Function for Galaxies in Clusters\")\n",
    "plt.xlabel(r'Galaxy Mass ($M_{\\odot}h^{-2}$)')\n",
    "plt.ylabel(r'Galaxy Abundance ($Mpc^{-3} DEX^{-1} h^{-3}$)')\n",
    "# plt.savefig(\"../plots/mass_function_cluster_galaxies.pdf\")"
   ]
  },
  {
   "cell_type": "code",
   "execution_count": null,
   "id": "d11ea687c218bd9",
   "metadata": {},
   "outputs": [],
   "source": []
  }
 ],
 "metadata": {
  "kernelspec": {
   "display_name": "Python 3 (ipykernel)",
   "language": "python",
   "name": "python3"
  },
  "language_info": {
   "codemirror_mode": {
    "name": "ipython",
    "version": 3
   },
   "file_extension": ".py",
   "mimetype": "text/x-python",
   "name": "python",
   "nbconvert_exporter": "python",
   "pygments_lexer": "ipython3",
   "version": "3.9.13"
  }
 },
 "nbformat": 4,
 "nbformat_minor": 5
}
