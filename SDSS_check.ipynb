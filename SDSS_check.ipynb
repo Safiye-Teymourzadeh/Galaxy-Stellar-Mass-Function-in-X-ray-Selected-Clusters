{
 "cells": [
  {
   "cell_type": "code",
   "id": "initial_id",
   "metadata": {
    "collapsed": true
   },
   "source": [
    "import astropy.io.fits as fits\n",
    "import pandas as pd\n",
    "from matplotlib import pyplot as plt\n",
    "import numpy as np\n",
    "from astropy.cosmology import Planck15 as cosmo\n",
    "\n",
    "from galaxy_cluster_matching import match_galaxies_and_clusters\n",
    "from completeness_new import calculate_completeness_of_objects\n",
    "from mass_function import get_weighted_mass_histogram, get_region_volume\n",
    "from constants import MASS_BINS, Z_MAX, LOG_MASS_LUMINOSITY_RATIO_BINS\n",
    "from richard_curve import get_mass_luminosity_cutoff, get_distance_from_mass, filter_for_richards_curve, get_mass_luminosity_histogram\n",
    "from constants import MASS_BINS, Z_MAX, LOG_MASS_LUMINOSITY_RATIO_BINS"
   ],
   "outputs": [],
   "execution_count": null
  },
  {
   "metadata": {
    "ExecuteTime": {
     "end_time": "2025-03-02T19:37:36.382504339Z",
     "start_time": "2025-02-07T03:08:58.815227Z"
    }
   },
   "cell_type": "code",
   "source": [
    "'''\n",
    "todo: mix the correct files,\n",
    "    get the correct name of the columns\n",
    "                            and masks\n",
    "    get the area for SDSS\n",
    "    and also area of its patch on the sky for the VOLUME calculation (ask johan)\n",
    "\n",
    "'''"
   ],
   "id": "8eeb2eaa0e1598e8",
   "outputs": [
    {
     "data": {
      "text/plain": [
       "'\\ntodo: mix the correct files,\\n    get the correct name of the columns\\n                            and masks\\n    get the area for SDSS\\n    and also area of its patch on the sky for the VOLUME calculation (ask johan)\\n\\n'"
      ]
     },
     "execution_count": 29,
     "metadata": {},
     "output_type": "execute_result"
    }
   ],
   "execution_count": 29
  },
  {
   "metadata": {
    "ExecuteTime": {
     "end_time": "2025-02-07T03:08:59.789952Z",
     "start_time": "2025-02-07T03:08:59.754572Z"
    }
   },
   "cell_type": "code",
   "source": [
    "# SDSS_All_raw = fits.open('/home/farnoosh/farnoosh/Master_Thesis_all/Data/SDSS/NYU/object_sdss_spectro.fits')[1].data\n",
    "# SDSS_All_raw = fits.open('/home/farnoosh/farnoosh/Master_Thesis_all/Data/SDSS/SDSS_DR7/SDSS_DR7.fits')[1].data  #galaxy\n",
    "SDSS_raw = fits.open('/home/farnoosh/farnoosh/Master_Thesis_all/Data/SDSS/SDSS_DR7/MPA/merged/gal_merged_info_mass.fit')[1].data  #galaxy\n",
    "\n",
    "eRASS1 = fits.open('/home/farnoosh/farnoosh/Master_Thesis_all/Data/eRASS/merged_primary&optical_clusters/merged_optical_primary_clusters.fits')[1].data #cluster"
   ],
   "id": "20f5707e1dfcccd6",
   "outputs": [],
   "execution_count": 30
  },
  {
   "metadata": {
    "ExecuteTime": {
     "end_time": "2025-02-07T03:37:45.389616Z",
     "start_time": "2025-02-07T03:37:41.046854Z"
    }
   },
   "cell_type": "code",
   "source": [
    "# Big galaxy catalog\n",
    "sdss_full_df = pd.DataFrame({\n",
    "    'RA': SDSS_raw['RA'].byteswap().newbyteorder(),\n",
    "    'DEC': SDSS_raw['DEC'].byteswap().newbyteorder(),\n",
    "    'z': SDSS_raw['Z'].byteswap().newbyteorder(),\n",
    "    'mstar': SDSS_raw['MEDIAN'].byteswap().newbyteorder(), # -1 is the NAN, and the values are like 10.294701,  which means M* =10^(10.294701)M☉\n",
    "    'plugmag_r': SDSS_raw['PLUG_MAG'][:, 2].byteswap().newbyteorder(),  # Extract r-band\n",
    "    'specmag_r': SDSS_raw['SPECTRO_MAG'][:, 2].byteswap().newbyteorder(),  # Extract r-band\n",
    "})\n",
    "\n",
    "# Derive flux in Jansky (Jy)\n",
    "m0 = -48.6\n",
    "sdss_full_df['flux'] = 10 ** (-0.4 * (sdss_full_df['specmag_r'] - m0)) * 1e23\n",
    "sdss_full_df['flux_plugmag'] = 10 ** (-(sdss_full_df['plugmag_r'] + 48.6) / 2.5) * 1e23\n",
    "# Calculate comoving distance from redshift\n",
    "sdss_full_df['comoving_distance'] = cosmo.comoving_distance(sdss_full_df['z']).value\n",
    "\n",
    "\n",
    "\n",
    "\n",
    "# Galaxy Masks\n",
    "sdss_full_df = sdss_full_df[\n",
    "    (sdss_full_df['z'] != 0) &                   # Redshift not zero\n",
    "    (sdss_full_df['z'] <= Z_MAX) &                # Redshift less than Z_MAX (define Z_MAX)\n",
    "    (sdss_full_df['flux'] >= 5.011928e-05) &       # Flux greater than or equal to 5.011928e-05\n",
    "    (sdss_full_df['flux_plugmag'] >= 5.011928e-05)       # Flux greater than or equal to 5.011928e-05\n",
    "]\n",
    "\n",
    "\n",
    "# SMALL galaxy catalog\n",
    "sdss_df = sdss_full_df[sdss_full_df['mstar'] != -1].copy()\n"
   ],
   "id": "3fc018c2d73d129c",
   "outputs": [],
   "execution_count": 68
  },
  {
   "metadata": {
    "ExecuteTime": {
     "end_time": "2025-02-07T03:37:57.593129Z",
     "start_time": "2025-02-07T03:37:57.589074Z"
    }
   },
   "cell_type": "code",
   "source": "print(sdss_df)\n",
   "id": "303b0841453330f5",
   "outputs": [
    {
     "name": "stdout",
     "output_type": "stream",
     "text": [
      "                RA        DEC         z      mstar  plugmag_r  specmag_r  \\\n",
      "0       146.714203  -1.041304  0.021275  10.294701  16.304701  15.627859   \n",
      "1       146.919449  -0.990492  0.213925  11.162018  19.082600  18.079983   \n",
      "2       146.859833  -0.808902  0.126554  11.373624  18.942801  17.694822   \n",
      "4       146.963898  -0.545003  0.055988   9.958836  19.477200  18.517302   \n",
      "5       146.607208  -1.240753  0.090633  10.915439  18.250299  17.301632   \n",
      "...            ...        ...       ...        ...        ...        ...   \n",
      "926952  258.599121  32.235626  0.078880  10.462537  18.752800  17.908915   \n",
      "927342  259.786102  30.735430  0.279855  11.617262  19.014900  17.876860   \n",
      "927350  260.124939  29.922937  0.122983  10.816550  18.541401  17.728378   \n",
      "927353  259.341309  30.198423  0.146299  10.950871  18.193899  17.409668   \n",
      "927355  259.667084  30.420561  0.048978   9.382871  19.091299  18.062140   \n",
      "\n",
      "            flux  flux_plugmag  comoving_distance  \n",
      "0       0.002036      0.001092          93.691144  \n",
      "1       0.000213      0.000085         898.318044  \n",
      "2       0.000303      0.000096         543.297928  \n",
      "4       0.000142      0.000059         244.532677  \n",
      "5       0.000436      0.000182         392.545611  \n",
      "...          ...           ...                ...  \n",
      "926952  0.000249      0.000115         342.619023  \n",
      "927342  0.000257      0.000090        1155.214540  \n",
      "927350  0.000294      0.000139         528.438560  \n",
      "927353  0.000395      0.000192         624.982314  \n",
      "927355  0.000216      0.000084         214.273834  \n",
      "\n",
      "[744946 rows x 9 columns]\n"
     ]
    }
   ],
   "execution_count": 70
  },
  {
   "metadata": {
    "ExecuteTime": {
     "end_time": "2025-02-07T03:38:28.624057Z",
     "start_time": "2025-02-07T03:38:28.614369Z"
    }
   },
   "cell_type": "code",
   "source": [
    "# load the clusters of galaxies data from the fits object into dataframes\n",
    "cluster_df_raw = pd.DataFrame({\n",
    "    'c_ID': eRASS1['DETUID'].byteswap().newbyteorder(),\n",
    "    'c_NAME': eRASS1['NAME'].byteswap().newbyteorder(),\n",
    "    'RA': eRASS1['RA'].byteswap().newbyteorder(),\n",
    "    'DEC': eRASS1['DEC'].byteswap().newbyteorder(),\n",
    "    'z': eRASS1['BEST_Z'].byteswap().newbyteorder(),\n",
    "    'z_type': eRASS1['BEST_Z_TYPE_1'].byteswap().newbyteorder(),\n",
    "    'cluster_radius_kpc': eRASS1['R500'].byteswap().newbyteorder(),\n",
    "    'cluster_Velocity_Dispersion': eRASS1['VDISP_BOOT'].byteswap().newbyteorder(),\n",
    "})"
   ],
   "id": "6aff3877a7b15675",
   "outputs": [],
   "execution_count": 71
  },
  {
   "metadata": {
    "ExecuteTime": {
     "end_time": "2025-02-07T03:38:30.510602Z",
     "start_time": "2025-02-07T03:38:30.505765Z"
    }
   },
   "cell_type": "code",
   "source": [
    "# Masks\n",
    "# CLUSTERS\n",
    "# Remove rows where 'cluster_Velocity_Dispersion' is NaN\n",
    "# cluster_df_noVelDisp = cluster_df_raw.dropna(subset=['cluster_Velocity_Dispersion'])\n",
    "\n",
    "cluster_df = cluster_df_raw[\n",
    "    (cluster_df_raw['z'] <= 0.4) &\n",
    "    (cluster_df_raw['cluster_radius_kpc'] != -1)\n",
    "]\n",
    "\n",
    "cluster_df['cluster_radius_Mpc'] = cluster_df['cluster_radius_kpc'] / 1000\n"
   ],
   "id": "d29f84f65d71141",
   "outputs": [
    {
     "name": "stderr",
     "output_type": "stream",
     "text": [
      "/tmp/ipykernel_140860/3430907919.py:11: SettingWithCopyWarning: \n",
      "A value is trying to be set on a copy of a slice from a DataFrame.\n",
      "Try using .loc[row_indexer,col_indexer] = value instead\n",
      "\n",
      "See the caveats in the documentation: https://pandas.pydata.org/pandas-docs/stable/user_guide/indexing.html#returning-a-view-versus-a-copy\n",
      "  cluster_df['cluster_radius_Mpc'] = cluster_df['cluster_radius_kpc'] / 1000\n"
     ]
    }
   ],
   "execution_count": 72
  },
  {
   "metadata": {
    "ExecuteTime": {
     "end_time": "2025-02-07T03:38:34.844892Z",
     "start_time": "2025-02-07T03:38:34.838722Z"
    }
   },
   "cell_type": "code",
   "source": [
    "print(cluster_df)\n",
    "print(cluster_df_raw)\n",
    "print(len(cluster_df)/len(cluster_df_raw))"
   ],
   "id": "dea74b0b97bf1091",
   "outputs": [
    {
     "name": "stdout",
     "output_type": "stream",
     "text": [
      "                                   c_ID                   c_NAME          RA  \\\n",
      "0      em01_002129_020_ML00014_002_c010  1eRASS J000005.2-383729    0.021730   \n",
      "1      em01_011174_020_ML00047_002_c010  1eRASS J000021.4-824954    0.089191   \n",
      "2      em01_002141_020_ML00031_002_c010  1eRASS J000031.0-500903    0.129422   \n",
      "3      em01_003153_020_ML00092_010_c010  1eRASS J000031.8-630131    0.132712   \n",
      "4      em01_002135_020_ML00092_002_c010  1eRASS J000045.3-462341    0.189080   \n",
      "...                                 ...                      ...         ...   \n",
      "12241  em01_357150_020_ML00035_011_c010  1eRASS J235853.5-612935  359.723163   \n",
      "12242  em01_357150_020_ML00008_011_c010  1eRASS J235858.0-603644  359.741833   \n",
      "12243  em01_358144_020_ML00091_010_c010  1eRASS J235911.7-551748  359.799123   \n",
      "12244  eb01_358123_020_ML00022_002_c010  1eRASS J235927.5-341821  359.864701   \n",
      "12246  em01_358129_020_ML00004_002_c010  1eRASS J235956.1-392826  359.983837   \n",
      "\n",
      "             DEC        z       z_type  cluster_radius_kpc  \\\n",
      "0     -38.624903  0.31528      photo_z               971.0   \n",
      "1     -82.831715  0.08909    cg_spec_z               819.0   \n",
      "2     -50.151013  0.06809    cg_spec_z               493.0   \n",
      "3     -63.025286  0.24480      photo_z               846.0   \n",
      "4     -46.394874  0.09254    cg_spec_z               495.0   \n",
      "...          ...      ...          ...                 ...   \n",
      "12241 -61.493096  0.37694      photo_z               982.0   \n",
      "12242 -60.612333  0.10523      photo_z              1071.0   \n",
      "12243 -55.296727  0.21368      photo_z               614.0   \n",
      "12244 -34.306012  0.11380  spec_z_boot               763.0   \n",
      "12246 -39.473995  0.10240    cg_spec_z               951.0   \n",
      "\n",
      "       cluster_Velocity_Dispersion  cluster_radius_Mpc  \n",
      "0                              NaN               0.971  \n",
      "1                              NaN               0.819  \n",
      "2                              NaN               0.493  \n",
      "3                              NaN               0.846  \n",
      "4                              NaN               0.495  \n",
      "...                            ...                 ...  \n",
      "12241                          NaN               0.982  \n",
      "12242                          NaN               1.071  \n",
      "12243                          NaN               0.614  \n",
      "12244                   488.820007               0.763  \n",
      "12246                          NaN               0.951  \n",
      "\n",
      "[6899 rows x 9 columns]\n",
      "                                   c_ID                   c_NAME          RA  \\\n",
      "0      em01_002129_020_ML00014_002_c010  1eRASS J000005.2-383729    0.021730   \n",
      "1      em01_011174_020_ML00047_002_c010  1eRASS J000021.4-824954    0.089191   \n",
      "2      em01_002141_020_ML00031_002_c010  1eRASS J000031.0-500903    0.129422   \n",
      "3      em01_003153_020_ML00092_010_c010  1eRASS J000031.8-630131    0.132712   \n",
      "4      em01_002135_020_ML00092_002_c010  1eRASS J000045.3-462341    0.189080   \n",
      "...                                 ...                      ...         ...   \n",
      "12242  em01_357150_020_ML00008_011_c010  1eRASS J235858.0-603644  359.741833   \n",
      "12243  em01_358144_020_ML00091_010_c010  1eRASS J235911.7-551748  359.799123   \n",
      "12244  eb01_358123_020_ML00022_002_c010  1eRASS J235927.5-341821  359.864701   \n",
      "12245  em01_358135_020_ML00094_002_c010  1eRASS J235955.2-441218  359.980381   \n",
      "12246  em01_358129_020_ML00004_002_c010  1eRASS J235956.1-392826  359.983837   \n",
      "\n",
      "             DEC        z       z_type  cluster_radius_kpc  \\\n",
      "0     -38.624903  0.31528      photo_z               971.0   \n",
      "1     -82.831715  0.08909    cg_spec_z               819.0   \n",
      "2     -50.151013  0.06809    cg_spec_z               493.0   \n",
      "3     -63.025286  0.24480      photo_z               846.0   \n",
      "4     -46.394874  0.09254    cg_spec_z               495.0   \n",
      "...          ...      ...          ...                 ...   \n",
      "12242 -60.612333  0.10523      photo_z              1071.0   \n",
      "12243 -55.296727  0.21368      photo_z               614.0   \n",
      "12244 -34.306012  0.11380  spec_z_boot               763.0   \n",
      "12245 -44.205215  0.57967      photo_z               785.0   \n",
      "12246 -39.473995  0.10240    cg_spec_z               951.0   \n",
      "\n",
      "       cluster_Velocity_Dispersion  \n",
      "0                              NaN  \n",
      "1                              NaN  \n",
      "2                              NaN  \n",
      "3                              NaN  \n",
      "4                              NaN  \n",
      "...                            ...  \n",
      "12242                          NaN  \n",
      "12243                          NaN  \n",
      "12244                   488.820007  \n",
      "12245                          NaN  \n",
      "12246                          NaN  \n",
      "\n",
      "[12247 rows x 8 columns]\n",
      "0.5633216297868866\n"
     ]
    }
   ],
   "execution_count": 73
  },
  {
   "metadata": {
    "ExecuteTime": {
     "end_time": "2025-02-07T03:38:38.213627Z",
     "start_time": "2025-02-07T03:38:38.057193Z"
    }
   },
   "cell_type": "code",
   "source": "sdss_df = calculate_completeness_of_objects(sdss_full_df, sdss_df) # for sdss the complteness is now defined the galaxies that their mass is estimated",
   "id": "7a778a28c9678034",
   "outputs": [
    {
     "name": "stderr",
     "output_type": "stream",
     "text": [
      "/home/farnoosh/git_repos/Galaxy-Stellar-Mass-Function-in-X-ray-Selected-Clusters/completeness_new.py:23: RuntimeWarning: invalid value encountered in divide\n",
      "  return np.cumsum(number_of_obj_small_survey)/np.cumsum(number_of_obj_big_survey)\n"
     ]
    }
   ],
   "execution_count": 74
  },
  {
   "metadata": {
    "ExecuteTime": {
     "end_time": "2025-02-07T03:38:41.977646Z",
     "start_time": "2025-02-07T03:38:41.973335Z"
    }
   },
   "cell_type": "code",
   "source": "print(sdss_df)",
   "id": "fb6adfc492cf7770",
   "outputs": [
    {
     "name": "stdout",
     "output_type": "stream",
     "text": [
      "                RA        DEC         z      mstar  plugmag_r  specmag_r  \\\n",
      "0       146.714203  -1.041304  0.021275  10.294701  16.304701  15.627859   \n",
      "1       146.919449  -0.990492  0.213925  11.162018  19.082600  18.079983   \n",
      "2       146.859833  -0.808902  0.126554  11.373624  18.942801  17.694822   \n",
      "4       146.963898  -0.545003  0.055988   9.958836  19.477200  18.517302   \n",
      "5       146.607208  -1.240753  0.090633  10.915439  18.250299  17.301632   \n",
      "...            ...        ...       ...        ...        ...        ...   \n",
      "926952  258.599121  32.235626  0.078880  10.462537  18.752800  17.908915   \n",
      "927342  259.786102  30.735430  0.279855  11.617262  19.014900  17.876860   \n",
      "927350  260.124939  29.922937  0.122983  10.816550  18.541401  17.728378   \n",
      "927353  259.341309  30.198423  0.146299  10.950871  18.193899  17.409668   \n",
      "927355  259.667084  30.420561  0.048978   9.382871  19.091299  18.062140   \n",
      "\n",
      "            flux  flux_plugmag  comoving_distance  completeness  \n",
      "0       0.002036      0.001092          93.691144      0.947759  \n",
      "1       0.000213      0.000085         898.318044      0.874228  \n",
      "2       0.000303      0.000096         543.297928      0.916589  \n",
      "4       0.000142      0.000059         244.532677      0.874575  \n",
      "5       0.000436      0.000182         392.545611      0.937505  \n",
      "...          ...           ...                ...           ...  \n",
      "926952  0.000249      0.000115         342.619023      0.894075  \n",
      "927342  0.000257      0.000090        1155.214540      0.897879  \n",
      "927350  0.000294      0.000139         528.438560      0.913540  \n",
      "927353  0.000395      0.000192         624.982314      0.934109  \n",
      "927355  0.000216      0.000084         214.273834      0.876231  \n",
      "\n",
      "[744946 rows x 10 columns]\n"
     ]
    }
   ],
   "execution_count": 75
  },
  {
   "metadata": {
    "ExecuteTime": {
     "end_time": "2025-02-07T03:38:44.650030Z",
     "start_time": "2025-02-07T03:38:43.458469Z"
    }
   },
   "cell_type": "code",
   "source": [
    "matched_sdss_dataframe = match_galaxies_and_clusters(galaxy_dataframe=sdss_df.head(1000), cluster_dataframe=cluster_df.head(10))\n",
    "matched_sdss_dataframe.to_csv('sdss_matched_in_erass1.csv')"
   ],
   "id": "da197ccaed8de359",
   "outputs": [
    {
     "name": "stdout",
     "output_type": "stream",
     "text": [
      "Progress: 16.6%0000000000002%"
     ]
    },
    {
     "name": "stderr",
     "output_type": "stream",
     "text": [
      "/home/farnoosh/git_repos/Galaxy-Stellar-Mass-Function-in-X-ray-Selected-Clusters/galaxy_cluster_matching.py:40: SettingWithCopyWarning: \n",
      "A value is trying to be set on a copy of a slice from a DataFrame.\n",
      "Try using .loc[row_indexer,col_indexer] = value instead\n",
      "\n",
      "See the caveats in the documentation: https://pandas.pydata.org/pandas-docs/stable/user_guide/indexing.html#returning-a-view-versus-a-copy\n",
      "  #     galaxy_dataframe['environment'] = \"Field\"\n",
      "/home/farnoosh/git_repos/Galaxy-Stellar-Mass-Function-in-X-ray-Selected-Clusters/galaxy_cluster_matching.py:41: SettingWithCopyWarning: \n",
      "A value is trying to be set on a copy of a slice from a DataFrame.\n",
      "Try using .loc[row_indexer,col_indexer] = value instead\n",
      "\n",
      "See the caveats in the documentation: https://pandas.pydata.org/pandas-docs/stable/user_guide/indexing.html#returning-a-view-versus-a-copy\n",
      "  #     galaxy_dataframe['cluster_mass'] = None\n",
      "/home/farnoosh/git_repos/Galaxy-Stellar-Mass-Function-in-X-ray-Selected-Clusters/galaxy_cluster_matching.py:42: SettingWithCopyWarning: \n",
      "A value is trying to be set on a copy of a slice from a DataFrame.\n",
      "Try using .loc[row_indexer,col_indexer] = value instead\n",
      "\n",
      "See the caveats in the documentation: https://pandas.pydata.org/pandas-docs/stable/user_guide/indexing.html#returning-a-view-versus-a-copy\n",
      "  #     galaxy_dataframe['cluster_name'] = None\n"
     ]
    },
    {
     "name": "stdout",
     "output_type": "stream",
     "text": [
      "Progress: 117.6%999999999999%"
     ]
    }
   ],
   "execution_count": 76
  },
  {
   "metadata": {
    "ExecuteTime": {
     "end_time": "2025-02-07T03:38:54.097554Z",
     "start_time": "2025-02-07T03:38:54.092173Z"
    }
   },
   "cell_type": "code",
   "source": [
    "# load matched galaxies\n",
    "sdss_df = pd.read_csv('sdss_matched_in_erass1.csv')"
   ],
   "id": "cf516ea2a0f03d48",
   "outputs": [],
   "execution_count": 77
  },
  {
   "metadata": {
    "ExecuteTime": {
     "end_time": "2025-02-07T03:38:55.508537Z",
     "start_time": "2025-02-07T03:38:55.005449Z"
    }
   },
   "cell_type": "code",
   "source": [
    "# apply selection function\n",
    "mass_to_light_histogram_all_galaxies = get_mass_luminosity_histogram(galaxy_df=sdss_df)\n",
    "mass_to_light_histogram_low_mass_galaxies = get_mass_luminosity_histogram(galaxy_df=sdss_df[sdss_df[\"mstar\"] < 10**10])\n",
    "mass_luminosity_cutoff = get_mass_luminosity_cutoff(sdss_df, cut_off_percentage=80)\n",
    "mass_bin_selection_function = np.logspace(5,12.25, 1000) # todo: might need a change\n",
    "selection_function = get_distance_from_mass(mass_bin_selection_function, log_cutoff_mass_to_light_ratio=mass_luminosity_cutoff)\n",
    "sdss_df['within_selection_function'] = sdss_df.apply(lambda row: filter_for_richards_curve(selection_function, mass_bin_selection_function, row['mstar'], row['comoving_distance']), axis=1)"
   ],
   "id": "c4128ce95980299a",
   "outputs": [],
   "execution_count": 78
  },
  {
   "metadata": {
    "ExecuteTime": {
     "end_time": "2025-02-07T03:38:59.938043Z",
     "start_time": "2025-02-07T03:38:59.900157Z"
    }
   },
   "cell_type": "code",
   "source": [
    "# find the general mass function\n",
    "mass_histogram, mass_histogram_error = get_weighted_mass_histogram(sdss_df[sdss_df['within_selection_function']], region_name='sdss_x_erass')\n",
    "stellar_mass_function = mass_histogram / get_region_volume('sdss_x_erass', MASS_BINS[:-1] , mass_luminosity_cutoff)\n",
    "stellar_mass_function_error = mass_histogram_error / get_region_volume('sdss_x_erass', MASS_BINS[:-1] , mass_luminosity_cutoff)"
   ],
   "id": "f83446a74124f846",
   "outputs": [
    {
     "ename": "KeyError",
     "evalue": "'sdss_x_erass'",
     "output_type": "error",
     "traceback": [
      "\u001B[0;31m---------------------------------------------------------------------------\u001B[0m",
      "\u001B[0;31mKeyError\u001B[0m                                  Traceback (most recent call last)",
      "Cell \u001B[0;32mIn[79], line 3\u001B[0m\n\u001B[1;32m      1\u001B[0m \u001B[38;5;66;03m# find the general mass function\u001B[39;00m\n\u001B[1;32m      2\u001B[0m mass_histogram, mass_histogram_error \u001B[38;5;241m=\u001B[39m get_weighted_mass_histogram(sdss_df[sdss_df[\u001B[38;5;124m'\u001B[39m\u001B[38;5;124mwithin_selection_function\u001B[39m\u001B[38;5;124m'\u001B[39m]], region_name\u001B[38;5;241m=\u001B[39m\u001B[38;5;124m'\u001B[39m\u001B[38;5;124msdss_x_erass\u001B[39m\u001B[38;5;124m'\u001B[39m)\n\u001B[0;32m----> 3\u001B[0m stellar_mass_function \u001B[38;5;241m=\u001B[39m mass_histogram \u001B[38;5;241m/\u001B[39m get_region_volume(\u001B[38;5;124m'\u001B[39m\u001B[38;5;124msdss_x_erass\u001B[39m\u001B[38;5;124m'\u001B[39m, MASS_BINS[:\u001B[38;5;241m-\u001B[39m\u001B[38;5;241m1\u001B[39m] , mass_luminosity_cutoff)\n\u001B[1;32m      4\u001B[0m stellar_mass_function_error \u001B[38;5;241m=\u001B[39m mass_histogram_error \u001B[38;5;241m/\u001B[39m get_region_volume(\u001B[38;5;124m'\u001B[39m\u001B[38;5;124msdss_x_erass\u001B[39m\u001B[38;5;124m'\u001B[39m, MASS_BINS[:\u001B[38;5;241m-\u001B[39m\u001B[38;5;241m1\u001B[39m] , mass_luminosity_cutoff)\n",
      "File \u001B[0;32m~/git_repos/Galaxy-Stellar-Mass-Function-in-X-ray-Selected-Clusters/mass_function.py:58\u001B[0m, in \u001B[0;36mget_region_volume\u001B[0;34m(region_name, mass_list, mass_luminosity_cutoff)\u001B[0m\n\u001B[1;32m     57\u001B[0m \u001B[38;5;28;01mdef\u001B[39;00m \u001B[38;5;21mget_region_volume\u001B[39m(region_name: \u001B[38;5;28mstr\u001B[39m, mass_list: \u001B[38;5;28mlist\u001B[39m, mass_luminosity_cutoff):\n\u001B[0;32m---> 58\u001B[0m     region \u001B[38;5;241m=\u001B[39m REGIONS_OF_SKY[region_name]\n\u001B[1;32m     59\u001B[0m     region_area \u001B[38;5;241m=\u001B[39m calculate_patch_area(patch\u001B[38;5;241m=\u001B[39mregion, nside\u001B[38;5;241m=\u001B[39mNSIDE)\n\u001B[1;32m     60\u001B[0m     average_pixel_area \u001B[38;5;241m=\u001B[39m \u001B[38;5;241m4\u001B[39m \u001B[38;5;241m*\u001B[39m np\u001B[38;5;241m.\u001B[39mpi \u001B[38;5;241m/\u001B[39m (\u001B[38;5;241m12\u001B[39m \u001B[38;5;241m*\u001B[39m NSIDE\u001B[38;5;241m*\u001B[39m\u001B[38;5;241m*\u001B[39m\u001B[38;5;241m2\u001B[39m)\n",
      "\u001B[0;31mKeyError\u001B[0m: 'sdss_x_erass'"
     ]
    }
   ],
   "execution_count": 79
  },
  {
   "metadata": {},
   "cell_type": "code",
   "outputs": [],
   "execution_count": null,
   "source": "",
   "id": "24682fd5ed8357f1"
  }
 ],
 "metadata": {
  "kernelspec": {
   "display_name": "Python 3",
   "language": "python",
   "name": "python3"
  },
  "language_info": {
   "codemirror_mode": {
    "name": "ipython",
    "version": 2
   },
   "file_extension": ".py",
   "mimetype": "text/x-python",
   "name": "python",
   "nbconvert_exporter": "python",
   "pygments_lexer": "ipython2",
   "version": "2.7.6"
  }
 },
 "nbformat": 4,
 "nbformat_minor": 5
}
