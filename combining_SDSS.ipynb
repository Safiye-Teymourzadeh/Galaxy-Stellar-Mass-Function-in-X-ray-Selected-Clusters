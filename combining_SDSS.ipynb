{
 "cells": [
  {
   "cell_type": "code",
   "id": "initial_id",
   "metadata": {
    "collapsed": true,
    "ExecuteTime": {
     "end_time": "2025-02-07T00:52:58.710187Z",
     "start_time": "2025-02-07T00:52:57.753560Z"
    }
   },
   "source": [
    "import astropy.io.fits as fits\n",
    "import pandas as pd\n",
    "from astropy.io import fits\n",
    "from astropy.table import Table\n",
    "from matplotlib import pyplot as plt\n",
    "import numpy as np\n",
    "from sympy.physics.units import percent\n",
    "from completeness_new import calculate_completeness_of_objects"
   ],
   "outputs": [],
   "execution_count": 1
  },
  {
   "metadata": {
    "ExecuteTime": {
     "end_time": "2025-02-07T00:53:00.882262Z",
     "start_time": "2025-02-07T00:52:59.276430Z"
    }
   },
   "cell_type": "code",
   "source": [
    "mass =fits.open('/home/farnoosh/farnoosh/Master_Thesis_all/Data/SDSS/SDSS_DR7/MPA/derived_data/total_stellar_mass_photometry_dr7_v5_2.fit.gz')[1].data\n",
    "info = fits.open('/home/farnoosh/farnoosh/Master_Thesis_all/Data/SDSS/SDSS_DR7/MPA/raw_data/gal_info_dr7_v5_2.fit.gz')[1].data\n"
   ],
   "id": "7c5e518e64575d6a",
   "outputs": [],
   "execution_count": 2
  },
  {
   "metadata": {
    "ExecuteTime": {
     "end_time": "2025-02-07T00:53:36.397547Z",
     "start_time": "2025-02-07T00:53:36.394798Z"
    }
   },
   "cell_type": "code",
   "source": "MEDIAN = mass['MEDIAN']",
   "id": "693e6581873e43fc",
   "outputs": [],
   "execution_count": 3
  },
  {
   "metadata": {
    "ExecuteTime": {
     "end_time": "2025-02-07T00:56:43.336178Z",
     "start_time": "2025-02-07T00:56:43.087340Z"
    }
   },
   "cell_type": "code",
   "source": "info_table = Table(info)",
   "id": "40ff3c15e28b2775",
   "outputs": [],
   "execution_count": 5
  },
  {
   "metadata": {
    "ExecuteTime": {
     "end_time": "2025-02-07T00:57:18.028792Z",
     "start_time": "2025-02-07T00:57:18.023599Z"
    }
   },
   "cell_type": "code",
   "source": "info_table['MEDIAN'] = MEDIAN",
   "id": "9944c3632f9cb4fe",
   "outputs": [],
   "execution_count": 6
  },
  {
   "metadata": {
    "ExecuteTime": {
     "end_time": "2025-02-07T01:01:54.990762Z",
     "start_time": "2025-02-07T01:01:54.501665Z"
    }
   },
   "cell_type": "code",
   "source": [
    "# Convert the info_table back to a NumPy array for saving to a FITS file\n",
    "info_array = np.array(info_table)\n",
    "\n",
    "# Retrieve the header from the original 'info' FITS file\n",
    "header = fits.open('/home/farnoosh/farnoosh/Master_Thesis_all/Data/SDSS/SDSS_DR7/MPA/raw_data/gal_info_dr7_v5_2.fit.gz')[0].header\n",
    "\n",
    "# Define the path for the new merged file\n",
    "merged_file_path = '/home/farnoosh/farnoosh/Master_Thesis_all/Data/SDSS/SDSS_DR7/MPA/merged/merged.fit'\n"
   ],
   "id": "5b5a65688b9159fc",
   "outputs": [],
   "execution_count": 9
  },
  {
   "metadata": {
    "ExecuteTime": {
     "end_time": "2025-02-07T01:04:07.692332Z",
     "start_time": "2025-02-07T01:04:07.688834Z"
    }
   },
   "cell_type": "code",
   "source": "print(info_table)",
   "id": "77560b8ead3eb010",
   "outputs": [
    {
     "name": "stdout",
     "output_type": "stream",
     "text": [
      "PLATEID  MJD  FIBERID   PHOTOID   ... KCOR_MODEL_MAG   RELEASE      MEDIAN  \n",
      "------- ----- ------- ----------- ... -------------- ------------ ----------\n",
      "    266 51602       1  756 .. 129 ...     0.0 .. 0.0 extra         10.294701\n",
      "    266 51602       2  756 .. 235 ...     0.0 .. 0.0 extra         11.162018\n",
      "    266 51602       4  752 .. 228 ...     0.0 .. 0.0 extra         11.373624\n",
      "    266 51602       5  752 .. 293 ...     0.0 .. 0.0 extra              -1.0\n",
      "    266 51602       6  756 .. 268 ...     0.0 .. 0.0 extra          9.958836\n",
      "    266 51602       8  752 .. 106 ...     0.0 .. 0.0 extra         10.915439\n",
      "    266 51602      10  756 .. 162 ...     0.0 .. 0.0 extra         10.783212\n",
      "    266 51602      11  752 .. 274 ...     0.0 .. 0.0 extra         11.365243\n",
      "    266 51602      12   752 .. 20 ...     0.0 .. 0.0 extra        10.1398535\n",
      "    266 51602      13  752 .. 112 ...     0.0 .. 0.0 extra         11.165448\n",
      "    ...   ...     ...         ... ...            ...          ...        ...\n",
      "   2974 54592     623 6161 .. 493 ...     0.0 .. 0.0 dr7.2              -1.0\n",
      "   2974 54592     624  2207 .. 19 ...     0.0 .. 0.0 dr7.2              -1.0\n",
      "   2974 54592     625 6161 .. 692 ...     0.0 .. 0.0 dr7.2              -1.0\n",
      "   2974 54592     628  6161 .. 54 ...     0.0 .. 0.0 dr7.2              -1.0\n",
      "   2974 54592     632 2207 .. 587 ...     0.0 .. 0.0 dr7.2              -1.0\n",
      "   2974 54592     633 2207 .. 129 ...     0.0 .. 0.0 dr7.2              -1.0\n",
      "   2974 54592     635 2207 .. 348 ...     0.0 .. 0.0 dr7.2              -1.0\n",
      "   2974 54592     636 2207 .. 676 ...     0.0 .. 0.0 dr7.2              -1.0\n",
      "   2974 54592     637 6161 .. 115 ...     0.0 .. 0.0 dr7.2              -1.0\n",
      "   2974 54592     638 2207 .. 552 ...     0.0 .. 0.0 dr7.2              -1.0\n",
      "Length = 927552 rows\n"
     ]
    }
   ],
   "execution_count": 11
  },
  {
   "metadata": {
    "ExecuteTime": {
     "end_time": "2025-02-07T01:06:43.259931Z",
     "start_time": "2025-02-07T01:06:43.257615Z"
    }
   },
   "cell_type": "code",
   "source": [
    "print(type(info_array))  # Check the type\n",
    "print(info_array.shape)  # Check its shape if it's an ndarray or table\n"
   ],
   "id": "3253e3ccac4527dc",
   "outputs": [
    {
     "name": "stdout",
     "output_type": "stream",
     "text": [
      "<class 'numpy.ndarray'>\n",
      "(927552,)\n"
     ]
    }
   ],
   "execution_count": 12
  },
  {
   "metadata": {
    "ExecuteTime": {
     "end_time": "2025-02-07T01:14:53.872167Z",
     "start_time": "2025-02-07T01:14:51.716760Z"
    }
   },
   "cell_type": "code",
   "source": [
    "# Convert FITS data to Astropy Table\n",
    "mass_table = Table(mass)\n",
    "info_table = Table(info)\n",
    "\n",
    "# Add \"MEDIAN\" column from mass_table to info_table\n",
    "info_table['MEDIAN'] = mass_table['MEDIAN']\n",
    "\n",
    "# Save the updated info_table to a new FITS file\n",
    "merged_file_path = '/home/farnoosh/farnoosh/Master_Thesis_all/Data/SDSS/SDSS_DR7/MPA/merged/merged.fit'\n",
    "\n",
    "# Retrieve the header from the original 'info' FITS file\n",
    "header = fits.open('/home/farnoosh/farnoosh/Master_Thesis_all/Data/SDSS/SDSS_DR7/MPA/raw_data/gal_info_dr7_v5_2.fit.gz')[0].header\n",
    "\n",
    "# Write the updated table back to a FITS file, using the original header\n",
    "info_table.write(merged_file_path, format='fits', overwrite=True)\n",
    "\n",
    "print(info_table)\n"
   ],
   "id": "8e35a354519846ee",
   "outputs": [
    {
     "name": "stdout",
     "output_type": "stream",
     "text": [
      "PLATEID  MJD  FIBERID   PHOTOID   ... KCOR_MODEL_MAG   RELEASE      MEDIAN  \n",
      "------- ----- ------- ----------- ... -------------- ------------ ----------\n",
      "    266 51602       1  756 .. 129 ...     0.0 .. 0.0 extra         10.294701\n",
      "    266 51602       2  756 .. 235 ...     0.0 .. 0.0 extra         11.162018\n",
      "    266 51602       4  752 .. 228 ...     0.0 .. 0.0 extra         11.373624\n",
      "    266 51602       5  752 .. 293 ...     0.0 .. 0.0 extra              -1.0\n",
      "    266 51602       6  756 .. 268 ...     0.0 .. 0.0 extra          9.958836\n",
      "    266 51602       8  752 .. 106 ...     0.0 .. 0.0 extra         10.915439\n",
      "    266 51602      10  756 .. 162 ...     0.0 .. 0.0 extra         10.783212\n",
      "    266 51602      11  752 .. 274 ...     0.0 .. 0.0 extra         11.365243\n",
      "    266 51602      12   752 .. 20 ...     0.0 .. 0.0 extra        10.1398535\n",
      "    266 51602      13  752 .. 112 ...     0.0 .. 0.0 extra         11.165448\n",
      "    ...   ...     ...         ... ...            ...          ...        ...\n",
      "   2974 54592     623 6161 .. 493 ...     0.0 .. 0.0 dr7.2              -1.0\n",
      "   2974 54592     624  2207 .. 19 ...     0.0 .. 0.0 dr7.2              -1.0\n",
      "   2974 54592     625 6161 .. 692 ...     0.0 .. 0.0 dr7.2              -1.0\n",
      "   2974 54592     628  6161 .. 54 ...     0.0 .. 0.0 dr7.2              -1.0\n",
      "   2974 54592     632 2207 .. 587 ...     0.0 .. 0.0 dr7.2              -1.0\n",
      "   2974 54592     633 2207 .. 129 ...     0.0 .. 0.0 dr7.2              -1.0\n",
      "   2974 54592     635 2207 .. 348 ...     0.0 .. 0.0 dr7.2              -1.0\n",
      "   2974 54592     636 2207 .. 676 ...     0.0 .. 0.0 dr7.2              -1.0\n",
      "   2974 54592     637 6161 .. 115 ...     0.0 .. 0.0 dr7.2              -1.0\n",
      "   2974 54592     638 2207 .. 552 ...     0.0 .. 0.0 dr7.2              -1.0\n",
      "Length = 927552 rows\n"
     ]
    }
   ],
   "execution_count": 15
  },
  {
   "metadata": {},
   "cell_type": "code",
   "outputs": [],
   "execution_count": null,
   "source": "",
   "id": "8185976684f0f17c"
  },
  {
   "metadata": {},
   "cell_type": "code",
   "outputs": [],
   "execution_count": null,
   "source": "",
   "id": "1d31cffbd2a89795"
  },
  {
   "metadata": {},
   "cell_type": "code",
   "outputs": [],
   "execution_count": null,
   "source": "",
   "id": "16470e8ea59ce045"
  },
  {
   "metadata": {},
   "cell_type": "code",
   "outputs": [],
   "execution_count": null,
   "source": "",
   "id": "e1a64c0d6a2c9d9c"
  },
  {
   "metadata": {},
   "cell_type": "code",
   "outputs": [],
   "execution_count": null,
   "source": "print(calculate_completeness_of_objects(sdss_large, sdss_small))",
   "id": "cddcf73321448d76"
  },
  {
   "metadata": {
    "ExecuteTime": {
     "end_time": "2025-02-01T14:30:12.843850Z",
     "start_time": "2025-02-01T14:30:12.839695Z"
    }
   },
   "cell_type": "code",
   "outputs": [],
   "execution_count": 47,
   "source": [
    "# Concatenate them row-wise\n",
    "combined_df = pd.concat([df_spec, df_mass, df_abs_mag], axis=1)"
   ],
   "id": "7d36785040b8ad8c"
  },
  {
   "metadata": {
    "ExecuteTime": {
     "end_time": "2025-02-01T14:18:06.090380Z",
     "start_time": "2025-02-01T14:18:06.081699Z"
    }
   },
   "cell_type": "code",
   "outputs": [
    {
     "name": "stdout",
     "output_type": "stream",
     "text": [
      "               RA        DEC         z      mstar    abs_mag\n",
      "0       146.71421  -1.041304  0.021314  10.308453 -20.481718\n",
      "1       146.91945  -0.990492  0.213991  11.176508 -22.849033\n",
      "2       146.85983  -0.808902  0.126660  11.391095 -22.147953\n",
      "3       146.76339  -0.810433  0.448533  11.608618 -24.014364\n",
      "4       146.96390  -0.545003  0.055957   9.972836 -20.192364\n",
      "...           ...        ...       ...        ...        ...\n",
      "927547  260.74317  31.944035  0.033893   9.755124 -20.117580\n",
      "927548  260.80058  31.898992  0.159699  10.682199 -22.636837\n",
      "927549  260.71601  32.024276  0.167412  10.837282 -23.269300\n",
      "927550  260.69724  32.285628  0.111586  10.652691 -22.561258\n",
      "927551  260.71625  32.092904  0.223961  10.861923 -23.318512\n",
      "\n",
      "[927552 rows x 5 columns]                RA        DEC         z\n",
      "0       146.71421  -1.041304  0.021314\n",
      "1       146.91945  -0.990492  0.213991\n",
      "2       146.85983  -0.808902  0.126660\n",
      "3       146.76339  -0.810433  0.448533\n",
      "4       146.96390  -0.545003  0.055957\n",
      "...           ...        ...       ...\n",
      "927547  260.74317  31.944035  0.033893\n",
      "927548  260.80058  31.898992  0.159699\n",
      "927549  260.71601  32.024276  0.167412\n",
      "927550  260.69724  32.285628  0.111586\n",
      "927551  260.71625  32.092904  0.223961\n",
      "\n",
      "[927552 rows x 3 columns]             mstar\n",
      "0       10.308453\n",
      "1       11.176508\n",
      "2       11.391095\n",
      "3       11.608618\n",
      "4        9.972836\n",
      "...           ...\n",
      "927547   9.755124\n",
      "927548  10.682199\n",
      "927549  10.837282\n",
      "927550  10.652691\n",
      "927551  10.861923\n",
      "\n",
      "[927552 rows x 1 columns]           abs_mag\n",
      "0      -20.481718\n",
      "1      -22.849033\n",
      "2      -22.147953\n",
      "3      -24.014364\n",
      "4      -20.192364\n",
      "...           ...\n",
      "927547 -20.117580\n",
      "927548 -22.636837\n",
      "927549 -23.269300\n",
      "927550 -22.561258\n",
      "927551 -23.318512\n",
      "\n",
      "[927552 rows x 1 columns]\n"
     ]
    }
   ],
   "execution_count": 45,
   "source": "print(combined_df, df_spec, df_mass, df_abs_mag)",
   "id": "95ca37aad9875256"
  },
  {
   "metadata": {
    "ExecuteTime": {
     "end_time": "2025-02-01T14:17:00.855075Z",
     "start_time": "2025-02-01T14:17:00.851459Z"
    }
   },
   "cell_type": "code",
   "outputs": [],
   "execution_count": 41,
   "source": [
    "\n",
    "# Define save path\n",
    "save_path_csv = \"/home/farnoosh/farnoosh/Master_Thesis_all/Data/SDSS/SDSS_DR7/leiden/combined_MassMagSpec.csv\"\n",
    "save_path_fits = \"/home/farnoosh/farnoosh/Master_Thesis_all/Data/SDSS/SDSS_DR7/leiden/combined_MassMagSpec.fits\"\n"
   ],
   "id": "1fb738be7873222b"
  },
  {
   "metadata": {
    "ExecuteTime": {
     "end_time": "2025-02-01T13:31:16.337893Z",
     "start_time": "2025-02-01T13:31:16.334322Z"
    }
   },
   "cell_type": "code",
   "outputs": [
    {
     "name": "stdout",
     "output_type": "stream",
     "text": [
      "CSV file saved to: /home/farnoosh/farnoosh/Master_Thesis_all/Data/SDSS/SDSS_DR7/leiden/combined_MassMagSpec.csv\n"
     ]
    }
   ],
   "execution_count": 14,
   "source": [
    "# Save as CSV\n",
    "combined_df.to_csv(save_path_csv, index=False)\n",
    "print(f\"CSV file saved to: {save_path_csv}\")\n"
   ],
   "id": "bdb241581ab6085c"
  },
  {
   "metadata": {
    "ExecuteTime": {
     "end_time": "2025-02-01T13:31:27.194315Z",
     "start_time": "2025-02-01T13:31:26.995561Z"
    }
   },
   "cell_type": "code",
   "outputs": [
    {
     "ename": "AssertionError",
     "evalue": "Column name must be a string able to fit in a single FITS card--typically this means a maximum of 68 characters, though it may be fewer if the string contains special characters like quotes.",
     "output_type": "error",
     "traceback": [
      "\u001B[0;31m---------------------------------------------------------------------------\u001B[0m",
      "\u001B[0;31mAssertionError\u001B[0m                            Traceback (most recent call last)",
      "Cell \u001B[0;32mIn[15], line 6\u001B[0m\n\u001B[1;32m      4\u001B[0m col_data \u001B[38;5;241m=\u001B[39m combined_df[col_name]\u001B[38;5;241m.\u001B[39mvalues\n\u001B[1;32m      5\u001B[0m col_format \u001B[38;5;241m=\u001B[39m \u001B[38;5;124m'\u001B[39m\u001B[38;5;124mE\u001B[39m\u001B[38;5;124m'\u001B[39m \u001B[38;5;28;01mif\u001B[39;00m col_data\u001B[38;5;241m.\u001B[39mdtype\u001B[38;5;241m.\u001B[39mkind \u001B[38;5;129;01min\u001B[39;00m [\u001B[38;5;124m'\u001B[39m\u001B[38;5;124mf\u001B[39m\u001B[38;5;124m'\u001B[39m, \u001B[38;5;124m'\u001B[39m\u001B[38;5;124mi\u001B[39m\u001B[38;5;124m'\u001B[39m] \u001B[38;5;28;01melse\u001B[39;00m \u001B[38;5;124m'\u001B[39m\u001B[38;5;124mA\u001B[39m\u001B[38;5;124m'\u001B[39m  \u001B[38;5;66;03m# 'E' for floats/integers, 'A' for strings\u001B[39;00m\n\u001B[0;32m----> 6\u001B[0m columns\u001B[38;5;241m.\u001B[39mappend(fits\u001B[38;5;241m.\u001B[39mColumn(name\u001B[38;5;241m=\u001B[39mcol_name, \u001B[38;5;28mformat\u001B[39m\u001B[38;5;241m=\u001B[39mcol_format, array\u001B[38;5;241m=\u001B[39mcol_data))\n",
      "File \u001B[0;32m~/softwares/.opt/conda/lib/python3.11/site-packages/astropy/io/fits/column.py:678\u001B[0m, in \u001B[0;36mColumn.__init__\u001B[0;34m(self, name, format, unit, null, bscale, bzero, disp, start, dim, array, ascii, coord_type, coord_unit, coord_ref_point, coord_ref_value, coord_inc, time_ref_pos)\u001B[0m\n\u001B[1;32m    675\u001B[0m     \u001B[38;5;28;01mraise\u001B[39;00m VerifyError(\u001B[38;5;124m\"\u001B[39m\u001B[38;5;130;01m\\n\u001B[39;00m\u001B[38;5;124m\"\u001B[39m\u001B[38;5;241m.\u001B[39mjoin(msg))\n\u001B[1;32m    677\u001B[0m \u001B[38;5;28;01mfor\u001B[39;00m attr \u001B[38;5;129;01min\u001B[39;00m KEYWORD_ATTRIBUTES:\n\u001B[0;32m--> 678\u001B[0m     \u001B[38;5;28msetattr\u001B[39m(\u001B[38;5;28mself\u001B[39m, attr, valid_kwargs\u001B[38;5;241m.\u001B[39mget(attr))\n\u001B[1;32m    680\u001B[0m \u001B[38;5;66;03m# TODO: Try to eliminate the following two special cases\u001B[39;00m\n\u001B[1;32m    681\u001B[0m \u001B[38;5;66;03m# for recformat and dim:\u001B[39;00m\n\u001B[1;32m    682\u001B[0m \u001B[38;5;66;03m# This is not actually stored as an attribute on columns for some\u001B[39;00m\n\u001B[1;32m    683\u001B[0m \u001B[38;5;66;03m# reason\u001B[39;00m\n\u001B[1;32m    684\u001B[0m recformat \u001B[38;5;241m=\u001B[39m valid_kwargs[\u001B[38;5;124m\"\u001B[39m\u001B[38;5;124mrecformat\u001B[39m\u001B[38;5;124m\"\u001B[39m]\n",
      "File \u001B[0;32m~/softwares/.opt/conda/lib/python3.11/site-packages/astropy/io/fits/column.py:534\u001B[0m, in \u001B[0;36mColumnAttribute.__set__\u001B[0;34m(self, obj, value)\u001B[0m\n\u001B[1;32m    532\u001B[0m \u001B[38;5;28;01mdef\u001B[39;00m \u001B[38;5;21m__set__\u001B[39m(\u001B[38;5;28mself\u001B[39m, obj, value):\n\u001B[1;32m    533\u001B[0m     \u001B[38;5;28;01mif\u001B[39;00m \u001B[38;5;28mself\u001B[39m\u001B[38;5;241m.\u001B[39m_validator \u001B[38;5;129;01mis\u001B[39;00m \u001B[38;5;129;01mnot\u001B[39;00m \u001B[38;5;28;01mNone\u001B[39;00m:\n\u001B[0;32m--> 534\u001B[0m         \u001B[38;5;28mself\u001B[39m\u001B[38;5;241m.\u001B[39m_validator(obj, value)\n\u001B[1;32m    536\u001B[0m     old_value \u001B[38;5;241m=\u001B[39m \u001B[38;5;28mgetattr\u001B[39m(obj, \u001B[38;5;28mself\u001B[39m\u001B[38;5;241m.\u001B[39m_attr, \u001B[38;5;28;01mNone\u001B[39;00m)\n\u001B[1;32m    537\u001B[0m     \u001B[38;5;28msetattr\u001B[39m(obj, \u001B[38;5;28mself\u001B[39m\u001B[38;5;241m.\u001B[39m_attr, value)\n",
      "File \u001B[0;32m~/softwares/.opt/conda/lib/python3.11/site-packages/astropy/io/fits/column.py:892\u001B[0m, in \u001B[0;36mColumn.name\u001B[0;34m(col, name)\u001B[0m\n\u001B[1;32m    889\u001B[0m \u001B[38;5;66;03m# This ensures that the new name can fit into a single FITS card\u001B[39;00m\n\u001B[1;32m    890\u001B[0m \u001B[38;5;66;03m# without any special extension like CONTINUE cards or the like.\u001B[39;00m\n\u001B[1;32m    891\u001B[0m \u001B[38;5;28;01mif\u001B[39;00m \u001B[38;5;129;01mnot\u001B[39;00m \u001B[38;5;28misinstance\u001B[39m(name, \u001B[38;5;28mstr\u001B[39m) \u001B[38;5;129;01mor\u001B[39;00m \u001B[38;5;28mlen\u001B[39m(\u001B[38;5;28mstr\u001B[39m(Card(\u001B[38;5;124m\"\u001B[39m\u001B[38;5;124mTTYPE\u001B[39m\u001B[38;5;124m\"\u001B[39m, name))) \u001B[38;5;241m!=\u001B[39m CARD_LENGTH:\n\u001B[0;32m--> 892\u001B[0m     \u001B[38;5;28;01mraise\u001B[39;00m \u001B[38;5;167;01mAssertionError\u001B[39;00m(\n\u001B[1;32m    893\u001B[0m         \u001B[38;5;124m\"\u001B[39m\u001B[38;5;124mColumn name must be a string able to fit in a single \u001B[39m\u001B[38;5;124m\"\u001B[39m\n\u001B[1;32m    894\u001B[0m         \u001B[38;5;124m\"\u001B[39m\u001B[38;5;124mFITS card--typically this means a maximum of 68 \u001B[39m\u001B[38;5;124m\"\u001B[39m\n\u001B[1;32m    895\u001B[0m         \u001B[38;5;124m\"\u001B[39m\u001B[38;5;124mcharacters, though it may be fewer if the string \u001B[39m\u001B[38;5;124m\"\u001B[39m\n\u001B[1;32m    896\u001B[0m         \u001B[38;5;124m\"\u001B[39m\u001B[38;5;124mcontains special characters like quotes.\u001B[39m\u001B[38;5;124m\"\u001B[39m\n\u001B[1;32m    897\u001B[0m     )\n",
      "\u001B[0;31mAssertionError\u001B[0m: Column name must be a string able to fit in a single FITS card--typically this means a maximum of 68 characters, though it may be fewer if the string contains special characters like quotes."
     ]
    }
   ],
   "execution_count": 15,
   "source": [
    "# Convert DataFrame to a list of FITS columns\n",
    "columns = []\n",
    "for col_name in combined_df.columns:\n",
    "    col_data = combined_df[col_name].values\n",
    "    col_format = 'E' if col_data.dtype.kind in ['f', 'i'] else 'A'  # 'E' for floats/integers, 'A' for strings\n",
    "    columns.append(fits.Column(name=col_name, format=col_format, array=col_data))\n"
   ],
   "id": "46bef9c552982076"
  },
  {
   "metadata": {
    "ExecuteTime": {
     "end_time": "2025-02-01T13:33:19.445489Z",
     "start_time": "2025-02-01T13:33:19.443217Z"
    }
   },
   "cell_type": "code",
   "outputs": [
    {
     "name": "stdout",
     "output_type": "stream",
     "text": [
      "RangeIndex(start=0, stop=1, step=1)\n"
     ]
    }
   ],
   "execution_count": 17,
   "source": "print(combined_df.columns)",
   "id": "4a76f181ede0b63"
  },
  {
   "metadata": {},
   "cell_type": "code",
   "outputs": [],
   "execution_count": null,
   "source": "",
   "id": "cf1255f718450b1d"
  }
 ],
 "metadata": {
  "kernelspec": {
   "display_name": "Python 3",
   "language": "python",
   "name": "python3"
  },
  "language_info": {
   "codemirror_mode": {
    "name": "ipython",
    "version": 2
   },
   "file_extension": ".py",
   "mimetype": "text/x-python",
   "name": "python",
   "nbconvert_exporter": "python",
   "pygments_lexer": "ipython2",
   "version": "2.7.6"
  }
 },
 "nbformat": 4,
 "nbformat_minor": 5
}
